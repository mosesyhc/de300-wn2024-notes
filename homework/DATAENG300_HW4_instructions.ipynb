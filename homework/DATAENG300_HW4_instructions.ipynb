{
 "cells": [
  {
   "cell_type": "markdown",
   "id": "f0bdea38-feee-406e-93e8-c33fdd78c6af",
   "metadata": {},
   "source": [
    "# Homework 4: Recipes"
   ]
  },
  {
   "cell_type": "markdown",
   "id": "1316338f-65ee-4ba9-a555-48cbb5fc17a0",
   "metadata": {},
   "source": [
    "In this homework, we will use tools accumulated through the quarter to analyze a set of recipes. "
   ]
  },
  {
   "cell_type": "markdown",
   "id": "710a0490-d914-49ce-8780-7cc0a73d4279",
   "metadata": {},
   "source": [
    "## Guideline\n",
    "- You may work in a group of up to three people. Include ALL your names on your submission.\n",
    "  - Each group makes a single submission.\n",
    "- For each part, give a summary of\n",
    "  - what you try to achieve,\n",
    "  - what methods you used, and\n",
    "  - what results you obtained.\n",
    "- Treat the reader as a content manager at Epicurious: use tables, plots, and summary statistics to aid your presentation of findings.\n",
    "- Append all codes at the end."
   ]
  },
  {
   "cell_type": "markdown",
   "id": "3bb4fbd5-3bc6-4107-a2c9-69eba010d7a0",
   "metadata": {},
   "source": [
    "**General rules of thumb for homeworks:**\n",
    "- Read the homework questions carefully.\n",
    "- Explain your choices.\n",
    "- Present your findings concisely.\n",
    "- Use tables, plots, and summary statistics to aid your presentation of findings.\n",
    "- If you have an idea in mind but could not implement (in code), present the idea thoroughly and how you would have implemented the code. "
   ]
  },
  {
   "cell_type": "markdown",
   "id": "1734e334-c5a5-4463-ab86-f65ad6be85a2",
   "metadata": {},
   "source": [
    "## Main Tasks\n",
    "The dataset for this homework can be downloaded with:"
   ]
  },
  {
   "cell_type": "code",
   "execution_count": null,
   "id": "d1516f35-96b2-4481-89fb-1d2f0066d88e",
   "metadata": {
    "scrolled": true
   },
   "outputs": [],
   "source": [
    "!curl -O https://raw.githubusercontent.com/mosesyhc/de300-wn2024-notes/main/homework/dataset/recipes.csv"
   ]
  },
  {
   "cell_type": "markdown",
   "id": "088c6843-5a41-4fd4-9430-a798334edfd0",
   "metadata": {},
   "source": [
    "### I. Clean up dataset\n",
    "1. Rename column names such that only alphabets, numbers, and underscores are retained.\n",
    "2. Consolidate the `['appetizer', 'breakfast', 'brunch', 'dessert', 'lunch', 'dinner']` columns as one column named `food_category`.  If the record does not fall under any of the categories, use the label `'other'` in the `food_category` column.\n",
    "3. Except `title`, `rating`, `calories`, `protein`, `fat`, and `sodium` columns, the other columns should contain binary variables.  Filter out records that do not comply.\n",
    "4. For the continuous columns, verify that the values are numeric. Filter out records that do not comply.\n",
    "5. Analyze the continuous columns for any missing data or outliers. Filter out, impute, or replace unreasonable values.\n",
    "6. For the binary columns (typically indicating presence of ingredients, among other unuseful information), impute the missing values.\n",
    "\n",
    "### II. Construct classification model for recipes\n",
    "1. Give a brief description of the cleaned dataset.  You are *not* required to report about every single column.  Instead, report what you find are important in understanding this dataset.\n",
    "2. If a binary column is predominantly 0 or 1 (> 99%), preclude it from your classification model.\n",
    "3. Construct a classification model for the recipes using `food_category` column as the response column.\n",
    "4. Report the accuracy of the classification model and the confusion matrix.\n",
    "\n",
    "### III. Usage of dataset\n",
    "Suggest database queries or code to answer the following questions:\n",
    "   1. What are the general ratings for different food categories?\n",
    "   2. Provide the top rated dessert item(s) in the dataset.\n",
    "   3. Provide a possible meal plan such that the total calories do not exceed 2000 kcal.  *You can suggest any sorts of solution.  Explain your rationale.*"
   ]
  },
  {
   "cell_type": "markdown",
   "id": "0c14f7e4-b3c8-42ec-86a3-3caaea725e91",
   "metadata": {},
   "source": [
    "### IV. Responsibility\n",
    "For groups with more than one person, include a shortlist that describes how you distribute the responsibilities in this homework."
   ]
  },
  {
   "cell_type": "markdown",
   "id": "85966585-0652-4c26-91a8-9f68957a5d97",
   "metadata": {},
   "source": [
    "# Generative AI disclosure\n",
    "In this course, you are generally allowed to use Generative Artificial Intelligence (GAI). Any use of GAI should be accompanied by a disclosure at the end of an assignment explaining (1) what you used GAI for; (2) the specific tool(s) you used; and (3) what prompts you used to get the results.\n",
    "\n",
    "**Include** any disclosure below."
   ]
  }
 ],
 "metadata": {
  "kernelspec": {
   "display_name": "Python 3 (ipykernel)",
   "language": "python",
   "name": "python3"
  },
  "language_info": {
   "codemirror_mode": {
    "name": "ipython",
    "version": 3
   },
   "file_extension": ".py",
   "mimetype": "text/x-python",
   "name": "python",
   "nbconvert_exporter": "python",
   "pygments_lexer": "ipython3",
   "version": "3.11.5"
  },
  "widgets": {
   "application/vnd.jupyter.widget-state+json": {
    "state": {},
    "version_major": 2,
    "version_minor": 0
   }
  }
 },
 "nbformat": 4,
 "nbformat_minor": 5
}
