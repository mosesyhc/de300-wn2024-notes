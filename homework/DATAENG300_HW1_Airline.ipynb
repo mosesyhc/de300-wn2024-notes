{
 "cells": [
  {
   "cell_type": "markdown",
   "id": "f0bdea38-feee-406e-93e8-c33fdd78c6af",
   "metadata": {},
   "source": [
    "# Homework 1: Airline delay analysis"
   ]
  },
  {
   "cell_type": "markdown",
   "id": "1316338f-65ee-4ba9-a555-48cbb5fc17a0",
   "metadata": {},
   "source": [
    "In this homework, we will explore the flight performance dataset from October, 2023 (Source: Bureau of Transportation Statistics, www.bts.gov).  \n",
    "\n",
    "**Some useful resources:**\n",
    "- You may find explanation of the dataset attributes available in [BTS dataset attribute summary](https://www.transtats.bts.gov/Fields.asp?gnoyr_VQ=FGJ).\n",
    "- You may verify some of your analyses using summaries provided by [BTS dashboard](https://www.transtats.bts.gov/HomeDrillChart_Month.asp).  "
   ]
  },
  {
   "cell_type": "markdown",
   "id": "3bb4fbd5-3bc6-4107-a2c9-69eba010d7a0",
   "metadata": {},
   "source": [
    "**General rules of thumb for homeworks:**\n",
    "- Read the homework questions carefully.\n",
    "- Explain your choices.\n",
    "- Present your findings concisely.\n",
    "- Use tables, plots, and summary statistics to aid your presentation of findings.\n",
    "- If you have an idea in mind but could not implement (in code), present the idea thoroughly and how you would have implemented the code. "
   ]
  },
  {
   "cell_type": "markdown",
   "id": "d2252ec6-f32c-41f7-91ed-3caea794497b",
   "metadata": {},
   "source": [
    "### Tasks:\n",
    "1. Summarize the missing data in this dataset.  Specifically, for each of the variables that have missing data, decide if any imputation is necessary.  Give your reasoning and code if you decide to impute missing values.\n",
    "2. Read through the following questions, decide if any removal of data is necessary.  Give your reasoning and code.\n",
    "3. Summarize the delay in arrivals, *including but not limited to*:\n",
    "   - How often do they occur?\n",
    "   - When there is a delay, what can we expect about the length of delay?\n",
    "   - What causes the delay and how often?\n",
    "4. Analyze and summarize each relationship in the following:\n",
    "   - delay in departures and delay in arrivals,\n",
    "   - delay in departures and origin airport,\n",
    "   - proportion of aircraft delay and airline, \n",
    "   - proportion of aircraft delay and day of week, and\n",
    "   - proportion of aircraft delay and flight leg (origin, destination airport pair)."
   ]
  },
  {
   "cell_type": "markdown",
   "id": "6326b981-cbb4-4259-ad18-ea4a51721cf5",
   "metadata": {},
   "source": [
    "### Dataset\n",
    "You may read in the dataset with the following code.  Otherwise, you can find the dataset available in the `dataset` directory.  *Note* that `pandas.read_csv()` is capable of reading a zipped .csv file and no unzipping is required."
   ]
  },
  {
   "cell_type": "code",
   "execution_count": 11,
   "id": "d1889918-d9d7-461c-9c93-40fc70aa9a1d",
   "metadata": {},
   "outputs": [],
   "source": [
    "import pandas as pd\n",
    "ontime = pd.read_csv('dataset/BTS_ontime_Oct2023.zip')"
   ]
  },
  {
   "cell_type": "code",
   "execution_count": 12,
   "id": "a1408f64-64fe-4dfd-9d3a-be6b98b24fe9",
   "metadata": {
    "scrolled": true
   },
   "outputs": [
    {
     "name": "stdout",
     "output_type": "stream",
     "text": [
      "<class 'pandas.core.frame.DataFrame'>\n",
      "RangeIndex: 598968 entries, 0 to 598967\n",
      "Data columns (total 29 columns):\n",
      " #   Column                 Non-Null Count   Dtype  \n",
      "---  ------                 --------------   -----  \n",
      " 0   DAY_OF_MONTH           598968 non-null  int64  \n",
      " 1   DAY_OF_WEEK            598968 non-null  int64  \n",
      " 2   FL_DATE                598968 non-null  object \n",
      " 3   OP_UNIQUE_CARRIER      598968 non-null  object \n",
      " 4   OP_CARRIER_AIRLINE_ID  598968 non-null  int64  \n",
      " 5   OP_CARRIER             598968 non-null  object \n",
      " 6   ORIGIN_AIRPORT_ID      598968 non-null  int64  \n",
      " 7   ORIGIN_AIRPORT_SEQ_ID  598968 non-null  int64  \n",
      " 8   ORIGIN_CITY_MARKET_ID  598968 non-null  int64  \n",
      " 9   DEST_AIRPORT_ID        598968 non-null  int64  \n",
      " 10  DEST_AIRPORT_SEQ_ID    598968 non-null  int64  \n",
      " 11  DEST_CITY_MARKET_ID    598968 non-null  int64  \n",
      " 12  CRS_DEP_TIME           598968 non-null  int64  \n",
      " 13  DEP_DELAY_NEW          596952 non-null  float64\n",
      " 14  DEP_DEL15              596952 non-null  float64\n",
      " 15  CRS_ARR_TIME           598968 non-null  int64  \n",
      " 16  ARR_DELAY_NEW          596003 non-null  float64\n",
      " 17  ARR_DEL15              596003 non-null  float64\n",
      " 18  CANCELLED              598968 non-null  float64\n",
      " 19  CANCELLATION_CODE      2140 non-null    object \n",
      " 20  CRS_ELAPSED_TIME       598968 non-null  float64\n",
      " 21  AIR_TIME               596003 non-null  float64\n",
      " 22  FLIGHTS                598968 non-null  float64\n",
      " 23  DISTANCE               598968 non-null  float64\n",
      " 24  CARRIER_DELAY          92985 non-null   float64\n",
      " 25  WEATHER_DELAY          92985 non-null   float64\n",
      " 26  NAS_DELAY              92985 non-null   float64\n",
      " 27  SECURITY_DELAY         92985 non-null   float64\n",
      " 28  LATE_AIRCRAFT_DELAY    92985 non-null   float64\n",
      "dtypes: float64(14), int64(11), object(4)\n",
      "memory usage: 132.5+ MB\n"
     ]
    }
   ],
   "source": [
    "ontime.info()"
   ]
  },
  {
   "cell_type": "markdown",
   "id": "85966585-0652-4c26-91a8-9f68957a5d97",
   "metadata": {},
   "source": [
    "# Generative AI disclosure\n",
    "In this course, you are generally allowed to use Generative Artificial Intelligence (GAI). Any use of GAI should be accompanied by a disclosure at the end of an assignment explaining (1) what you used GAI for; (2) the specific tool(s) you used; and (3) what prompts you used to get the results.\n",
    "\n",
    "**Include** any disclosure below."
   ]
  }
 ],
 "metadata": {
  "kernelspec": {
   "display_name": "Python 3 (ipykernel)",
   "language": "python",
   "name": "python3"
  },
  "language_info": {
   "codemirror_mode": {
    "name": "ipython",
    "version": 3
   },
   "file_extension": ".py",
   "mimetype": "text/x-python",
   "name": "python",
   "nbconvert_exporter": "python",
   "pygments_lexer": "ipython3",
   "version": "3.11.7"
  },
  "widgets": {
   "application/vnd.jupyter.widget-state+json": {
    "state": {},
    "version_major": 2,
    "version_minor": 0
   }
  }
 },
 "nbformat": 4,
 "nbformat_minor": 5
}
