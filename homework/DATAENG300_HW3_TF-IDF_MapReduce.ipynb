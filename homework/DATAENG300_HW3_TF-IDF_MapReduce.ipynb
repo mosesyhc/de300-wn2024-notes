{
 "cells": [
  {
   "cell_type": "markdown",
   "id": "f0bdea38-feee-406e-93e8-c33fdd78c6af",
   "metadata": {},
   "source": [
    "# Homework 3: MapReduce for TF-IDF"
   ]
  },
  {
   "cell_type": "markdown",
   "id": "1316338f-65ee-4ba9-a555-48cbb5fc17a0",
   "metadata": {},
   "source": [
    "In this homework, we will construct the term frequency-inverse document frequency (tf-idf) measures through MapReduce."
   ]
  },
  {
   "cell_type": "markdown",
   "id": "3bb4fbd5-3bc6-4107-a2c9-69eba010d7a0",
   "metadata": {},
   "source": [
    "**General rules of thumb for homeworks:**\n",
    "- Read the homework questions carefully.\n",
    "- Explain your choices.\n",
    "- Present your findings concisely.\n",
    "- Use tables, plots, and summary statistics to aid your presentation of findings.\n",
    "- If you have an idea in mind but could not implement (in code), present the idea thoroughly and how you would have implemented the code. "
   ]
  },
  {
   "cell_type": "markdown",
   "id": "b7988161-1bee-47e7-83db-a5468a011aa9",
   "metadata": {},
   "source": [
    "### tf-idf definition\n",
    "\n",
    "The tf-idf measure is defined as the following:\n",
    "\n",
    "Let $t$ be a term (a word), $d$ be a document, and $D$ be the collection of the documents.\n",
    "\n",
    "Term frequency (*tf*):\n",
    "\n",
    "$$\\mathrm{tf}(t, d) = \\frac{\\textrm{\\# occurrences of } t \\textrm{ in } d}{\\textrm{\\# terms in } d},$$\n",
    "\n",
    "Inverse document frequency (*idf*):\n",
    "$$\\mathrm{idf}(t, D) = \\log\\left(\\frac{\\textrm{\\# docs in } D}{\\textrm{\\# docs containing } t}\\right).$$\n",
    "\n",
    "As a result, the tf-idf measure is\n",
    "\n",
    "$$\\textrm{tf-idf}(t, d, D) = \\mathrm{tf}(t, d)\\times \\mathrm{idf}(t, D).$$\n",
    "\n",
    "**Note:** You can assume the number of documents in $D$ can be pre-computed, i.e. `.count()` in your dataframe/rdd."
   ]
  },
  {
   "cell_type": "markdown",
   "id": "769a4179-d9bf-4c43-94c7-618306636e60",
   "metadata": {},
   "source": [
    "### Tasks\n",
    "1. Design the MapReduce functions for calculating the tf-idf measure.\n",
    "2. Calculate tf-idf measure for each row in the `agnews_clean.csv`.  Save the measures in a new column.\n",
    "3. Print out the tf-idf measure for the first 5 documents."
   ]
  },
  {
   "cell_type": "markdown",
   "id": "50d2af1b-b097-4363-8d12-0931912d55bd",
   "metadata": {},
   "source": [
    "### Dataset\n",
    "The AG news dataset is cleaned and stored in `agnews_clean.csv` below:"
   ]
  },
  {
   "cell_type": "code",
   "execution_count": null,
   "id": "d1772632-a092-4357-822b-5c433a181f35",
   "metadata": {},
   "outputs": [],
   "source": [
    "# !curl https://raw.githubusercontent.com/mosesyhc/de300-wn2024-notes/main/homework/dataset/agnews_clean.csv -O"
   ]
  },
  {
   "cell_type": "code",
   "execution_count": 1,
   "id": "b3ba0fba-c8d7-4737-aca1-518b2411b076",
   "metadata": {},
   "outputs": [],
   "source": [
    "from pyspark.sql import SparkSession\n",
    "\n",
    "spark = (SparkSession.builder\n",
    "         .master(\"local[*]\")\n",
    "         .appName(\"AG news\")\n",
    "         .getOrCreate()\n",
    "        )\n",
    "\n",
    "agnews = spark.read.csv(\"dataset/agnews_clean.csv\", inferSchema=True, header=True)"
   ]
  },
  {
   "cell_type": "code",
   "execution_count": 7,
   "id": "ce46cdce-51e6-41c6-8a38-8bd2fc37ff86",
   "metadata": {},
   "outputs": [
    {
     "name": "stdout",
     "output_type": "stream",
     "text": [
      "+---+----------------------------------------------------------------------------------------------------+\n",
      "|_c0|                                                                                            filtered|\n",
      "+---+----------------------------------------------------------------------------------------------------+\n",
      "|  0|['wall', 'st', 'bears', 'claw', 'back', 'black', 'reuters', 'reuters', 'short', 'sellers', 'wall'...|\n",
      "|  1|['carlyle', 'looks', 'toward', 'commercial', 'aerospace', 'reuters', 'reuters', 'private', 'inves...|\n",
      "|  2|['oil', 'economy', 'cloud', 'stocks', 'outlook', 'reuters', 'reuters', 'soaring', 'crude', 'price...|\n",
      "|  3|['iraq', 'halts', 'oil', 'exports', 'main', 'southern', 'pipeline', 'reuters', 'reuters', 'author...|\n",
      "|  4|['oil', 'prices', 'soar', 'time', 'record', 'posing', 'new', 'menace', 'us', 'economy', 'afp', 'a...|\n",
      "+---+----------------------------------------------------------------------------------------------------+\n",
      "only showing top 5 rows\n",
      "\n"
     ]
    }
   ],
   "source": [
    "# each row contains the document id and a list of filtered words\n",
    "agnews.show(5, truncate=100)"
   ]
  },
  {
   "cell_type": "markdown",
   "id": "1e96673b-5b54-4f76-9448-05d2a151f22b",
   "metadata": {},
   "source": [
    "### Potentially useful questions to ask:\n",
    "\n",
    "What do we need to calculate?\n",
    "  - For each $d$, the counts of $t$,\n",
    "    - *refer to word count example*\n",
    "  - For each $d$, the counts of words,\n",
    "  - For each $t$, the counts of $d$ that contains $t$.\n",
    "    - *what should be returned if we only want to know if the document contains $t$ of not*."
   ]
  },
  {
   "cell_type": "markdown",
   "id": "85966585-0652-4c26-91a8-9f68957a5d97",
   "metadata": {},
   "source": [
    "# Generative AI disclosure\n",
    "In this course, you are generally allowed to use Generative Artificial Intelligence (GAI). Any use of GAI should be accompanied by a disclosure at the end of an assignment explaining (1) what you used GAI for; (2) the specific tool(s) you used; and (3) what prompts you used to get the results.\n",
    "\n",
    "**Include** any disclosure below."
   ]
  }
 ],
 "metadata": {
  "kernelspec": {
   "display_name": "Python 3 (ipykernel)",
   "language": "python",
   "name": "python3"
  },
  "language_info": {
   "codemirror_mode": {
    "name": "ipython",
    "version": 3
   },
   "file_extension": ".py",
   "mimetype": "text/x-python",
   "name": "python",
   "nbconvert_exporter": "python",
   "pygments_lexer": "ipython3",
   "version": "3.11.7"
  },
  "widgets": {
   "application/vnd.jupyter.widget-state+json": {
    "state": {},
    "version_major": 2,
    "version_minor": 0
   }
  }
 },
 "nbformat": 4,
 "nbformat_minor": 5
}
