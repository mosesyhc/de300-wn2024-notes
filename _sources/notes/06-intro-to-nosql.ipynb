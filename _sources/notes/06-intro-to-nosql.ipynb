{
 "cells": [
  {
   "cell_type": "markdown",
   "id": "c2afa085-f4de-46cf-8a9b-32ba170ffa21",
   "metadata": {},
   "source": [
    "# Introduction to NoSQL databases\n",
    "\n",
    "This document introduces the concept and usage of NoSQL databases."
   ]
  },
  {
   "cell_type": "markdown",
   "id": "83f4b7e4-d39b-4025-aa7a-061205dc437a",
   "metadata": {},
   "source": [
    "```{figure} ../img/nosql-geek-and-poke.jpg\n",
    "---\n",
    "width: 70%\n",
    "name: nosql\n",
    "---\n",
    "NoSQL comic [Geek and Poke](https://geekandpoke.typepad.com/geekandpoke/2011/01/nosql.html)\n",
    "```"
   ]
  },
  {
   "cell_type": "markdown",
   "id": "5c72c6b2-dfba-4dde-9929-c20462b7d17a",
   "metadata": {},
   "source": [
    "## What is NoSQL\n",
    "\n",
    "The term NoSQL refers to a variety of database systems that *do not* follow all the rules in a relational (SQL) database system.\n",
    "\n",
    "NoSQL typically stands for *not only SQL* or non-relational.\n",
    "\n",
    "Examples of NoSQL systems:\n",
    "- Apache Cassandra: commerce, recommandation systems\n",
    "- MongoDB: text-based content\n",
    "- Redis: queues, messaging\n",
    "\n",
    "*Note:* Many of these systems can handle most of the applications listed.  Their *main* use case is listed.\n",
    "\n",
    "## Key features of NoSQL  \n",
    "1. (Horizontal) scalability: distribute operations over many nodes\n",
    "2. Redundancy: replicate and distribute data over many nodes\n",
    "3. Flexibility:\n",
    "   - looser restriction on concurrency than most relational database systems\n",
    "   - ability to add new features/attributes (columns) dynamically"
   ]
  },
  {
   "cell_type": "markdown",
   "id": "a0bbdf8f-bf05-49fa-9556-ac5ac33947d5",
   "metadata": {},
   "source": [
    "## CAP Theorem \n",
    "The CAP theorem ({cite:t}`fox1999harvest`, {cite:t}`brewer2012cap`) describes the following performance properties of a system:  \n",
    "\n",
    "- consistency (C) equivalent to having a single up-to-date\n",
    "copy of the data;\n",
    "- high availability (A) of that data (for updates); and\n",
    "- tolerance to network partitions (P).\n",
    "\n",
    "On a high-level, a general system only satisfies **two** of the three properties.\n",
    "\n",
    "*Note:* Tension spectra among the three properties."
   ]
  },
  {
   "cell_type": "markdown",
   "id": "7cb3efc8-9fe9-4774-9fdf-3417c5ab77ff",
   "metadata": {},
   "source": [
    "## ACID and BASE properties"
   ]
  },
  {
   "cell_type": "markdown",
   "id": "a76da150-b6e8-4f04-9ce9-1f4c6d5be285",
   "metadata": {},
   "source": [
    "::::{grid}\n",
    ":gutter: 2\n",
    "\n",
    ":::{grid-item-card} ACID\n",
    "- Atomicity: All operations in a single transaction succeed or fail together.\n",
    "- Consistency: When multiple reads occur simultaneously, the data are consistent for all.\n",
    "- Isolation: A new transaction waits until the previous transaction is complete.\n",
    "- Durability: All committed records are maintained.\n",
    ":::\n",
    "\n",
    ":::{grid-item-card} BASE\n",
    "- Basically Available: Database is accessible at (almost) all times. One user does not wait for other transactions to complete before a read/update.\n",
    "- Soft state: Temporary states of data may change (without external triggers). (e.g. social media post edit)\n",
    "- Eventually consistent: A data record will become consistent when all concurrent updates are complete.\n",
    ":::\n"
   ]
  },
  {
   "cell_type": "markdown",
   "id": "19d129a8-1351-4fed-9e21-e4511a2f01af",
   "metadata": {},
   "source": [
    "### Summary table from [AWS Concepts](https://aws.amazon.com/compare/the-difference-between-acid-and-base-database/)\n",
    "\n",
    "|    | ACID | BASE |\n",
    "| :- |  :-  |  :-  |\n",
    "| Scale | Scales vertically. | Scales horizontally. |\n",
    "| Flexibility | Less flexible. Blocks specific records from other applications when processing. | More flexible. Allows multiple applications to update the same record simultaneously. |\n",
    "| Performance | Performance decreases when processing large volumes of data. | Capable of handling large, unstructured data with high throughput. |\n",
    "| Synchronization | Yes. Adds delay when synchronizing. | No synchronization at the database level. |"
   ]
  },
  {
   "cell_type": "markdown",
   "id": "5952fafc-a55b-46a4-a515-75c7f4b226e5",
   "metadata": {},
   "source": [
    "## Main forms of NoSQL database systems [ch.5, {cite:t}`reis2022fundamentals`]\n",
    "1. Document databases\n",
    "   - Storing data in JSON-like documents.\n",
    "   - e.g., MongoDB and Couchbase.\n",
    "2. Key-value stores \n",
    "   - Storing data as a collection of key-value pairs.\n",
    "   - e.g., Redis and DynamoDB.\n",
    "3. Graph databases\n",
    "   - Storing data as vertices and edges.\n",
    "   - e.g., Neo4j and Amazon Neptune.\n",
    "4. **Column-family (wide-column) stores**\n",
    "   - Storing data in columns rather than rows\n",
    "   - Scalable data storage.\n",
    "   - e.g., Apache Cassandra and ScyllaDB."
   ]
  },
  {
   "cell_type": "markdown",
   "id": "13f05f2a-05ee-432e-9b85-41400d1eb4c4",
   "metadata": {},
   "source": [
    "```{bibliography}\n",
    ":filter: docname in docnames\n",
    "```"
   ]
  }
 ],
 "metadata": {
  "kernelspec": {
   "display_name": "Python 3 (ipykernel)",
   "language": "python",
   "name": "python3"
  },
  "language_info": {
   "codemirror_mode": {
    "name": "ipython",
    "version": 3
   },
   "file_extension": ".py",
   "mimetype": "text/x-python",
   "name": "python",
   "nbconvert_exporter": "python",
   "pygments_lexer": "ipython3",
   "version": "3.11.5"
  },
  "widgets": {
   "application/vnd.jupyter.widget-state+json": {
    "state": {},
    "version_major": 2,
    "version_minor": 0
   }
  }
 },
 "nbformat": 4,
 "nbformat_minor": 5
}
