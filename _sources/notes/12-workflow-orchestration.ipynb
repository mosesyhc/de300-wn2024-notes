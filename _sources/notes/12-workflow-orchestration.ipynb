{
 "cells": [
  {
   "cell_type": "markdown",
   "id": "2ba5042e-4e66-4930-b7e1-9bf7ec29f2c6",
   "metadata": {},
   "source": [
    "# Workflow orchestration\n",
    "This document includes a gentle introduction to workflow orchestration and its main elements, with the example of Apache Airflow.\n",
    "\n",
    "## What is a workflow?\n",
    "A *workflow* is essentially a set of actionable tasks that need to be run in specific order."
   ]
  },
  {
   "cell_type": "markdown",
   "id": "bd67bfd3-8918-4944-a582-258062e938a6",
   "metadata": {},
   "source": [
    "```{figure} ../img/pipeline-workflow.png\n",
    "---\n",
    "width: 75%\n",
    "name: pipeline-workflow\n",
    "---\n",
    "Workflow can be composed of multiple data pipelines {cite:p}`harenslak2021data`.\n",
    "```"
   ]
  },
  {
   "cell_type": "markdown",
   "id": "34690cc2-18df-4d89-a292-4e0db6199060",
   "metadata": {},
   "source": [
    "## Apache Airflow\n",
    "Originated as an internal project in Airbnb in 2014, *Airflow* aims to\n",
    "- solve a \"common\" problem of designing and scheduling jobs,\n",
    "- define jobs that have simple configurations and their own schedules,\n",
    "- allow customization of jobs."
   ]
  },
  {
   "cell_type": "markdown",
   "id": "13a1469c-ad7f-4dc2-b709-404960572232",
   "metadata": {},
   "source": [
    "### Directed acyclic graph (DAG)\n",
    "The sequence of tasks is represented by a directed acyclic graph."
   ]
  },
  {
   "cell_type": "markdown",
   "id": "c774d7b5-7214-40e8-a882-833b9dbf7217",
   "metadata": {},
   "source": [
    "```{figure} ../img/dag.png\n",
    "---\n",
    "width: 75%\n",
    "name: dag\n",
    "---\n",
    "An example and counter-example of DAG.\n",
    "```"
   ]
  },
  {
   "cell_type": "markdown",
   "id": "e59c8cf4-6ad9-420f-9337-e6d22c6630bc",
   "metadata": {
    "jp-MarkdownHeadingCollapsed": true
   },
   "source": [
    "### Tasks\n",
    "Tasks are the basic unit of execution.  Tasks can \n",
    "- execute arbitrary code using operators,\n",
    "- execute codes either locally or remotely."
   ]
  },
  {
   "cell_type": "markdown",
   "id": "f35bc409-b637-4197-a5bf-75f3aef754ba",
   "metadata": {},
   "source": [
    "### Operators \n",
    "Operators are just templated tasks, calling specific wrappers to execude common codes, for examples:\n",
    "- `BashOperator`\n",
    "- `PythonOperator`\n",
    "- `DummyOperator`\n",
    "- `SparkSubmitOperator`"
   ]
  },
  {
   "cell_type": "markdown",
   "id": "7957896a-21ac-4ca2-ad8e-e92dcc7d59ff",
   "metadata": {},
   "source": [
    "```{figure} ../img/airflow-dag.png\n",
    "---\n",
    "width: 75%\n",
    "name: airflow-dag\n",
    "---\n",
    "DAG schema in Airflow.\n",
    "```"
   ]
  },
  {
   "cell_type": "markdown",
   "id": "77d4421b-c6af-4c42-9b2b-f94318ddc229",
   "metadata": {},
   "source": [
    "### Schedulers and Executors\n",
    "Schedulers defines when a DAG should be run and how frequently.  Executors *listens* to the scheduler for a notification before executing any tasks."
   ]
  },
  {
   "cell_type": "markdown",
   "id": "86fcb698-14b0-421b-9ede-eb55964beb90",
   "metadata": {},
   "source": [
    "```\n",
    "DAG(\n",
    "  dag_id=\"daily_active_users_reporting_job\",\n",
    "  start_date=days_ago(2),\n",
    "  default_args=args,\n",
    "  tags=[\"XXX\",\"YYY\"],\n",
    "  schedule_interval=\"@daily\",\n",
    ")\n",
    "```"
   ]
  },
  {
   "cell_type": "markdown",
   "id": "eb00fa0e-97cc-4afc-a47e-c31bb75e1c4d",
   "metadata": {},
   "source": [
    "```{figure} ../img/dag-python-to-airflow.png\n",
    "---\n",
    "width: 75%\n",
    "name: dag-python-to-airflow\n",
    "---\n",
    "DAG as Python configuration informs Airflow of all tasks and job sequences.\n",
    "```"
   ]
  },
  {
   "cell_type": "markdown",
   "id": "82cd5708-e680-4706-8f1f-525b805217a5",
   "metadata": {},
   "source": [
    "```{bibliography}\n",
    ":filter: docname in docnames\n",
    "```"
   ]
  },
  {
   "cell_type": "code",
   "execution_count": null,
   "id": "9588f7b3-854c-4aa6-939f-b68579e0876b",
   "metadata": {},
   "outputs": [],
   "source": []
  }
 ],
 "metadata": {
  "kernelspec": {
   "display_name": "Python 3 (ipykernel)",
   "language": "python",
   "name": "python3"
  },
  "language_info": {
   "codemirror_mode": {
    "name": "ipython",
    "version": 3
   },
   "file_extension": ".py",
   "mimetype": "text/x-python",
   "name": "python",
   "nbconvert_exporter": "python",
   "pygments_lexer": "ipython3",
   "version": "3.11.7"
  },
  "widgets": {
   "application/vnd.jupyter.widget-state+json": {
    "state": {},
    "version_major": 2,
    "version_minor": 0
   }
  }
 },
 "nbformat": 4,
 "nbformat_minor": 5
}
