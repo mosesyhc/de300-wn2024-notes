{
 "cells": [
  {
   "cell_type": "markdown",
   "id": "90ccebaa-492c-449a-a736-230917919ce7",
   "metadata": {},
   "source": [
    "# Introduction to Data Engineering\n",
    "\n",
    "This notebook summarizes the data engineering lifecycle, and emphasizes the components covered in DATA_ENG 300.\n",
    "\n",
    "## Data Engineering Lifecycle\n",
    "\n",
    "{cite:t}`reis2022fundamentals` describes the data engineering lifecycle with five main stages:  \n",
    "- Generation\n",
    "- Storage\n",
    "- Ingestion\n",
    "- Transformation\n",
    "- Serving data "
   ]
  },
  {
   "cell_type": "markdown",
   "id": "babe85ec-9b46-4d85-9423-24b1cd95b581",
   "metadata": {},
   "source": [
    "```{figure} ../img/fode_0201.png\n",
    "---\n",
    "width: 90%\n",
    "name: data-eng-lifecycle\n",
    "---\n",
    "Data engineering lifecycle components\n",
    "```\n"
   ]
  }
 ],
 "metadata": {
  "kernelspec": {
   "display_name": "Python 3 (ipykernel)",
   "language": "python",
   "name": "python3"
  },
  "language_info": {
   "codemirror_mode": {
    "name": "ipython",
    "version": 3
   },
   "file_extension": ".py",
   "mimetype": "text/x-python",
   "name": "python",
   "nbconvert_exporter": "python",
   "pygments_lexer": "ipython3",
   "version": "3.11.7"
  },
  "widgets": {
   "application/vnd.jupyter.widget-state+json": {
    "state": {},
    "version_major": 2,
    "version_minor": 0
   }
  }
 },
 "nbformat": 4,
 "nbformat_minor": 5
}
