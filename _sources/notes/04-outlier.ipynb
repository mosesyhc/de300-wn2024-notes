{
 "cells": [
  {
   "cell_type": "markdown",
   "id": "bee1bf6c-886b-4465-a839-eef3b8bf7b2a",
   "metadata": {},
   "source": [
    "# Handling outliers\n",
    "\n",
    "This document introduces the concept of outliers and a selected list of methods for detecting outliers.\n",
    "\n",
    "## Outlier overview\n",
    "- What is an outlier? Broadly speaking, the set of data points that **do not** behave like the rest of data\n",
    "- Examples of outlier detection usage:\n",
    "  - **Outlier:**  Given a dataset (say data matrix $X$), find all observations ($x_i$'s) that do not belong.\n",
    "  - **Novelty:**  Given a new observation $x'_i$, determine if it belongs to the known dataset.\n",
    "- Applications:\n",
    "  - Fraud detection\n",
    "  - Symptomless disease detection\n",
    "  - Epidemic initialization\n",
    "  - Sports analytics\n",
    "  - Quality control\n",
    "  - Network intrusion"
   ]
  },
  {
   "cell_type": "markdown",
   "id": "63dbff23-f8f5-452d-938c-d11f57a9493b",
   "metadata": {},
   "source": [
    "### Outlier category\n",
    "- Local anomalies: a data point not belonging to their local neighborhood\n",
    "- Global anomalies: out-of-range / different from \"normal\" data\n",
    "- Group anomalies: a cluster of points not belonging to the \"normal\" data\n",
    "- *Dependency anomalies*"
   ]
  },
  {
   "cell_type": "markdown",
   "id": "3231ca3b-c07b-49dd-b3f7-610e51b289d9",
   "metadata": {},
   "source": [
    "```{figure} ../img/anomalies.png\n",
    "---\n",
    "width: 90%\n",
    "name: anomalies\n",
    "---\n",
    "Reproduced from Figure 2 of {cite:t}`lee2021gen`.\n",
    "```"
   ]
  },
  {
   "cell_type": "markdown",
   "id": "2faccc62-a3cd-4047-b8ef-7e99c839d1e8",
   "metadata": {},
   "source": [
    "### Method category\n",
    "Three general categories for outlier detection methods {cite:p}`han2022adbench`:\n",
    "- Supervised: both training data for normal and abnormal cases are available.\n",
    "  - i.e. a binary classification problem\n",
    "  - e.g., readmission, fraud, simulation failure\n",
    "- Semi-supervised: training data for only normal (or abnormal) cases are available.\n",
    "  - i.e., learn what is \"normal\", and decide if unseen cases belong.\n",
    "- Unsupervised: there is no knowledge of normal vs. abnormal cases."
   ]
  },
  {
   "cell_type": "markdown",
   "id": "c9209835-6192-4862-9771-d00a35b36d20",
   "metadata": {},
   "source": [
    "```{figure} ../img/adbench-methods.png\n",
    "---\n",
    "width: 90%\n",
    "name: adbench\n",
    "---\n",
    "Reproduced from Figure 2 of Han et al, (2022).\n",
    "```"
   ]
  },
  {
   "cell_type": "markdown",
   "id": "1ae118ed-43f7-4c0b-90ad-b95caa24bb47",
   "metadata": {},
   "source": [
    "### Key takeaway from {cite:p}`han2022adbench` (https://github.com/Minqi824/ADBench)\n",
    "1. surprisingly none of the benchmarked unsupervised algorithms is statistically better than others, emphasizing the importance of algorithm selection;\r\n",
    "2. with merely 1% labeled anomalies, most semi-supervised methods can outperform the best unsupervised method, justifying the importance of supervision;\r\n",
    "3. in controlled environments, we observe that best unsupervised methods for specific types of anomalies are even better than semi- and fully-supervised methods, revealing the necessity of understanding data characteristics;\r\n",
    "4. semi-supervised methods show potential in achieving robustness in noisy and corrupted data, possibly due to their efficiency in using labels and feature selection;\r",
    "ng: and many more can be found in our papers (Sectionaches"
   ]
  }
 ],
 "metadata": {
  "kernelspec": {
   "display_name": "Python 3 (ipykernel)",
   "language": "python",
   "name": "python3"
  },
  "language_info": {
   "codemirror_mode": {
    "name": "ipython",
    "version": 3
   },
   "file_extension": ".py",
   "mimetype": "text/x-python",
   "name": "python",
   "nbconvert_exporter": "python",
   "pygments_lexer": "ipython3",
   "version": "3.11.7"
  },
  "widgets": {
   "application/vnd.jupyter.widget-state+json": {
    "state": {},
    "version_major": 2,
    "version_minor": 0
   }
  }
 },
 "nbformat": 4,
 "nbformat_minor": 5
}
