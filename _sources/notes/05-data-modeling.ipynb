{
 "cells": [
  {
   "cell_type": "markdown",
   "id": "75a9880f-9e11-4506-bf23-6c56ed0f0b5e",
   "metadata": {},
   "source": [
    "# Data Modeling\n",
    "This set of notes introduces concepts of data modeling and the associated tools.\n",
    "\n",
    "*Data modeling* is essentially ... how you model the data, or how you perceive the data structure as presented in the real world."
   ]
  },
  {
   "cell_type": "markdown",
   "id": "a7d75dbf-b891-47eb-858f-dad5032b3aeb",
   "metadata": {},
   "source": [
    "## Examples of data engineering scenarios\n",
    "\n",
    "*Online transaction processing (OLTP)*\n",
    "\n",
    "- Any transactions, literally\n",
    "- e.g., retail, banking, texting\n",
    "\n",
    "*Online analytics processing (OLAP)*\n",
    "\n",
    "- Interactive analytics *queries*\n",
    "- i.e., retrieve and aggregate data for information (or insight)\n",
    "- e.g., airline delay (homework)\n",
    "\n",
    "*Change data capture*\n",
    "\n",
    "- Snapshots, differential updates\n",
    "- e.g., appointment scheduling"
   ]
  },
  {
   "cell_type": "markdown",
   "id": "6a24727a-6d5a-47e9-b868-cd95e2d6274b",
   "metadata": {},
   "source": [
    "```{figure} ../img/mend-cheps.png\n",
    "---\n",
    "width: 70%\n",
    "name: mend-cheps\n",
    "---\n",
    "Average provider availability into the future.\n",
    "```"
   ]
  },
  {
   "cell_type": "markdown",
   "id": "49220503-0480-4fb7-a147-841d2cd5a54a",
   "metadata": {},
   "source": [
    "*Logs*\n",
    "\n",
    "- binary logs\n",
    "- JSON\n",
    "- Plain-text"
   ]
  },
  {
   "cell_type": "markdown",
   "id": "ef7168d6-6013-4e6d-a532-8db22431977f",
   "metadata": {},
   "source": [
    "## Database and query\n",
    "\n",
    "*Database* refers to a data storage system and a query engine.  \n",
    "\n",
    "*Query* refers to the avenue to retrieve and act on data.  \n",
    "Query commands generally include:\n",
    "\n",
    "- Data Definition Language, e.g., `CREATE`, `UPDATE`, `DROP`\n",
    "- Data Manipulation Language, e.g., `SELECT`, `INSERT`, `UPDATE`, `DELETE`, `COPY`, `MERGE`\n",
    "- Data Control Language, e.g., `GRANT`, `DENY`, `REVOKE`\n",
    "- Transaction Control Language, e.g., `COMMIT`, `ROLLBACK`\n",
    "\n",
    "Several notes about queries:\n",
    "\n",
    "- Complex queries incur higher computations.\n",
    "  - *What is the goal?* Are we looking for a particular flight? or are we finding the number of flights that are delayed due to weather within date A and date B?\n",
    "- Avoid large number of scans when possible.  Prepartitioning or pruning may be beneficial.\n",
    "- Use `EXPLAIN` on a query for analysis.\n",
    "- Use common table expressions, e.g.,"
   ]
  },
  {
   "cell_type": "markdown",
   "id": "70a1aa6c-4e47-40ec-831e-826daa178540",
   "metadata": {},
   "source": [
    "```\n",
    "WITH\n",
    "  cte1 AS (SELECT a, b FROM table1),\n",
    "  cte2 AS (SELECT c, d FROM table2)\n",
    "SELECT b, d FROM cte1 JOIN cte2\n",
    "WHERE cte1.a = cte2.c;\n",
    "```"
   ]
  },
  {
   "cell_type": "markdown",
   "id": "34372b63-7966-4bc0-b27b-3bfa1ab5d8d0",
   "metadata": {},
   "source": [
    "## {ref}`ex-electronic-medical-record`"
   ]
  },
  {
   "cell_type": "markdown",
   "id": "30808fa1-b194-443c-8947-894ba8331b28",
   "metadata": {},
   "source": [
    "**References:** Chapters 5 and 8 of {cite:t}`reis2022fundamentals` are excellent resources on this topic."
   ]
  }
 ],
 "metadata": {
  "kernelspec": {
   "display_name": "Python 3 (ipykernel)",
   "language": "python",
   "name": "python3"
  },
  "language_info": {
   "codemirror_mode": {
    "name": "ipython",
    "version": 3
   },
   "file_extension": ".py",
   "mimetype": "text/x-python",
   "name": "python",
   "nbconvert_exporter": "python",
   "pygments_lexer": "ipython3",
   "version": "3.11.7"
  },
  "widgets": {
   "application/vnd.jupyter.widget-state+json": {
    "state": {},
    "version_major": 2,
    "version_minor": 0
   }
  }
 },
 "nbformat": 4,
 "nbformat_minor": 5
}
