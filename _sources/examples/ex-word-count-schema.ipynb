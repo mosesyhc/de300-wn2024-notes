{
 "cells": [
  {
   "cell_type": "markdown",
   "id": "319246cd-bad9-49a5-8902-d624db1614a5",
   "metadata": {},
   "source": [
    "# Word count example (in pictures)\n",
    "This document complements the [Colab code](https://github.com/mosesyhc/de300-wn2024-notes/blob/main/examples/ex-word-count.ipynb) as an introduction to PySpark."
   ]
  },
  {
   "cell_type": "markdown",
   "id": "ce2f80b7-caa4-4c4f-a90e-079866eaf148",
   "metadata": {},
   "source": [
    "## Schematic idea of the word count process"
   ]
  },
  {
   "cell_type": "markdown",
   "id": "fe9f0ae7-d7e7-49ad-987e-f9cda47cbc4d",
   "metadata": {},
   "source": [
    "```{figure} ../img/mrwc-01.png\n",
    "---\n",
    "width: 70%\n",
    "name: mrwc-01\n",
    "---\n",
    "```"
   ]
  },
  {
   "cell_type": "markdown",
   "id": "735da666-0baf-468f-ac6a-5f7dd61e6fc7",
   "metadata": {},
   "source": [
    "## `explode` command"
   ]
  },
  {
   "cell_type": "markdown",
   "id": "2d453595-88b3-4426-8300-34b02fa6e8f4",
   "metadata": {},
   "source": [
    "```{figure} ../img/mrwc-03.png\n",
    "---\n",
    "width: 70%\n",
    "name: mrwc-03\n",
    "---\n",
    "```"
   ]
  },
  {
   "cell_type": "markdown",
   "id": "dda3b01d-1b90-4597-87f4-3630fb4809b4",
   "metadata": {},
   "source": [
    "## `groupby` command"
   ]
  },
  {
   "cell_type": "markdown",
   "id": "f55288e3-290d-49a5-a947-373dd6f8bb3b",
   "metadata": {},
   "source": [
    "```{figure} ../img/mrwc-04.png\n",
    "---\n",
    "width: 70%\n",
    "name: mrwc-04\n",
    "--- \n",
    "```"
   ]
  },
  {
   "cell_type": "markdown",
   "id": "c3d602d0-566a-47fc-9ec0-6f0736ada3db",
   "metadata": {},
   "source": [
    "## Distributed counting"
   ]
  },
  {
   "cell_type": "markdown",
   "id": "5b02844b-6542-4fbb-875f-a6f2d9aee376",
   "metadata": {},
   "source": [
    "```{figure} ../img/mrwc-05.png\n",
    "---\n",
    "width: 70%\n",
    "name: mrwc-05\n",
    "---\n",
    "```"
   ]
  },
  {
   "cell_type": "markdown",
   "id": "81af3d22-65c6-41a1-a7bc-825f9248a527",
   "metadata": {},
   "source": [
    "## Chaining of commands"
   ]
  },
  {
   "cell_type": "markdown",
   "id": "86e2a84e-e8f4-49fc-b9ce-4dc3b24e5507",
   "metadata": {},
   "source": [
    "```{figure} ../img/mrwc-06.png\n",
    "---\n",
    "width: 70%\n",
    "name: mrwc-06\n",
    "---\n",
    "```"
   ]
  },
  {
   "cell_type": "markdown",
   "id": "c6bc0a2c-8cf0-4cb5-838d-24ca06c73282",
   "metadata": {},
   "source": [
    "**Reference**: {cite:t}`rioux2022data`"
   ]
  }
 ],
 "metadata": {
  "kernelspec": {
   "display_name": "Python 3 (ipykernel)",
   "language": "python",
   "name": "python3"
  },
  "language_info": {
   "codemirror_mode": {
    "name": "ipython",
    "version": 3
   },
   "file_extension": ".py",
   "mimetype": "text/x-python",
   "name": "python",
   "nbconvert_exporter": "python",
   "pygments_lexer": "ipython3",
   "version": "3.11.7"
  },
  "widgets": {
   "application/vnd.jupyter.widget-state+json": {
    "state": {},
    "version_major": 2,
    "version_minor": 0
   }
  }
 },
 "nbformat": 4,
 "nbformat_minor": 5
}
