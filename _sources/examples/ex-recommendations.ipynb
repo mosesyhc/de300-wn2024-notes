{
 "cells": [
  {
   "cell_type": "markdown",
   "metadata": {},
   "source": [
    "(ex-rec-system)=\n",
    "# (EX) Recommendation system with alternating least squares algorithm"
   ]
  },
  {
   "cell_type": "markdown",
   "metadata": {},
   "source": [
    "This document demonstrates how to use the Alternating Least Squares algorithm in designing a recommendation system.  \n",
    "\n",
    "*Notebook adapted from* https://gist.github.com/jbochi/2e8ddcc5939e70e5368326aa034a144e"
   ]
  },
  {
   "cell_type": "code",
   "execution_count": 18,
   "metadata": {},
   "outputs": [],
   "source": [
    "# !pip install implicit \n",
    "# !pip install pandas-gbq"
   ]
  },
  {
   "cell_type": "code",
   "execution_count": 28,
   "metadata": {},
   "outputs": [
    {
     "name": "stdout",
     "output_type": "stream",
     "text": [
      "C:\\Users\\moses\\Desktop\\git\\de300-wi2024\\de300-wn2024-notes\\examples\n"
     ]
    }
   ],
   "source": [
    "import os\n",
    "print(os.path.abspath(os.curdir))"
   ]
  },
  {
   "cell_type": "code",
   "execution_count": 30,
   "metadata": {},
   "outputs": [],
   "source": [
    "from google.oauth2 import service_account\n",
    "\n",
    "credentials = service_account.Credentials.from_service_account_file(\n",
    "    '../../misc/de300-rec-system-72c831ee85c4.json',\n",
    ")"
   ]
  },
  {
   "cell_type": "code",
   "execution_count": 19,
   "metadata": {},
   "outputs": [],
   "source": [
    "import pandas as pd\n",
    "import numpy as np\n",
    "from scipy.sparse import coo_matrix\n",
    "from implicit.als import AlternatingLeastSquares\n",
    "import requests"
   ]
  },
  {
   "cell_type": "code",
   "execution_count": 40,
   "metadata": {},
   "outputs": [],
   "source": [
    "project_id = \"de300-rec-system\"\n",
    "github_user = \"mosesyhc\"\n",
    "\n",
    "with open('../../misc/de300-github-api-token.txt') as f:\n",
    "    github_token = f.readlines()[0]  # from https://github.com/settings/tokens"
   ]
  },
  {
   "cell_type": "code",
   "execution_count": 41,
   "metadata": {
    "collapsed": false,
    "jupyter": {
     "outputs_hidden": false
    }
   },
   "outputs": [],
   "source": [
    "github_auth = requests.auth.HTTPBasicAuth(github_user, github_token)"
   ]
  },
  {
   "cell_type": "code",
   "execution_count": 42,
   "metadata": {
    "collapsed": false,
    "jupyter": {
     "outputs_hidden": false
    },
    "scrolled": true
   },
   "outputs": [],
   "source": [
    "query = \"\"\"\n",
    "WITH stars AS (\n",
    "     SELECT actor.login AS user, repo.name AS repo, created_at AS timestamp\n",
    "     FROM githubarchive.month.202312\n",
    "     WHERE type=\"WatchEvent\"\n",
    "),\n",
    "repositories_stars AS (\n",
    "     SELECT repo, COUNT(*) as c\n",
    "     FROM stars\n",
    "     GROUP BY repo\n",
    "     ORDER BY c DESC\n",
    "     LIMIT 1000\n",
    "),\n",
    "users_stars AS (\n",
    "    SELECT user, COUNT(*) as c\n",
    "    FROM  stars\n",
    "    WHERE repo IN (SELECT repo FROM repositories_stars)\n",
    "    GROUP BY user\n",
    "    HAVING c > 10 AND C < 100\n",
    "    LIMIT 10000\n",
    ")\n",
    "SELECT\n",
    "user, repo, timestamp\n",
    "FROM stars\n",
    "WHERE repo IN (SELECT repo FROM repositories_stars)\n",
    "AND user IN (SELECT user FROM users_stars)\n",
    "ORDER BY timestamp DESC\n",
    "\"\"\"\n",
    "\n",
    "data = pd.io.gbq.read_gbq(query, index_col=\"timestamp\", dialect=\"standard\", project_id=project_id, credentials=credentials)"
   ]
  },
  {
   "cell_type": "code",
   "execution_count": 43,
   "metadata": {
    "collapsed": false,
    "jupyter": {
     "outputs_hidden": false
    }
   },
   "outputs": [
    {
     "data": {
      "text/html": [
       "<div>\n",
       "<style scoped>\n",
       "    .dataframe tbody tr th:only-of-type {\n",
       "        vertical-align: middle;\n",
       "    }\n",
       "\n",
       "    .dataframe tbody tr th {\n",
       "        vertical-align: top;\n",
       "    }\n",
       "\n",
       "    .dataframe thead th {\n",
       "        text-align: right;\n",
       "    }\n",
       "</style>\n",
       "<table border=\"1\" class=\"dataframe\">\n",
       "  <thead>\n",
       "    <tr style=\"text-align: right;\">\n",
       "      <th></th>\n",
       "      <th>user</th>\n",
       "      <th>repo</th>\n",
       "    </tr>\n",
       "    <tr>\n",
       "      <th>timestamp</th>\n",
       "      <th></th>\n",
       "      <th></th>\n",
       "    </tr>\n",
       "  </thead>\n",
       "  <tbody>\n",
       "    <tr>\n",
       "      <th>2023-12-31 23:59:40+00:00</th>\n",
       "      <td>halbtuerke</td>\n",
       "      <td>apple/ml-ferret</td>\n",
       "    </tr>\n",
       "    <tr>\n",
       "      <th>2023-12-31 23:58:39+00:00</th>\n",
       "      <td>nv0skar</td>\n",
       "      <td>anasfik/flutter-spy</td>\n",
       "    </tr>\n",
       "    <tr>\n",
       "      <th>2023-12-31 23:57:56+00:00</th>\n",
       "      <td>RhetTbull</td>\n",
       "      <td>ofek/pyapp</td>\n",
       "    </tr>\n",
       "    <tr>\n",
       "      <th>2023-12-31 23:57:28+00:00</th>\n",
       "      <td>alpapaydin</td>\n",
       "      <td>hiyouga/LLaMA-Factory</td>\n",
       "    </tr>\n",
       "    <tr>\n",
       "      <th>2023-12-31 23:55:12+00:00</th>\n",
       "      <td>mikestaub</td>\n",
       "      <td>blakeblackshear/frigate</td>\n",
       "    </tr>\n",
       "  </tbody>\n",
       "</table>\n",
       "</div>"
      ],
      "text/plain": [
       "                                 user                     repo\n",
       "timestamp                                                     \n",
       "2023-12-31 23:59:40+00:00  halbtuerke          apple/ml-ferret\n",
       "2023-12-31 23:58:39+00:00     nv0skar      anasfik/flutter-spy\n",
       "2023-12-31 23:57:56+00:00   RhetTbull               ofek/pyapp\n",
       "2023-12-31 23:57:28+00:00  alpapaydin    hiyouga/LLaMA-Factory\n",
       "2023-12-31 23:55:12+00:00   mikestaub  blakeblackshear/frigate"
      ]
     },
     "execution_count": 43,
     "metadata": {},
     "output_type": "execute_result"
    }
   ],
   "source": [
    "data.head()"
   ]
  },
  {
   "cell_type": "code",
   "execution_count": 64,
   "metadata": {},
   "outputs": [
    {
     "data": {
      "text/plain": [
       "['halbtuerke', 'nv0skar', 'RhetTbull', 'alpapaydin', 'mikestaub', ..., 'YuiINGA', 'Ganesh-Gonela', 'youngabrahamamur', 'chopec79', 'MO-W59']\n",
       "Length: 8896\n",
       "Categories (8896, object): ['002301', '00APrIL', '01000111011001010110010101101011', '040828jx', ..., 'zzzarius', 'zzzgydi', 'zzzhc', 'zzzhouuu']"
      ]
     },
     "execution_count": 64,
     "metadata": {},
     "output_type": "execute_result"
    }
   ],
   "source": [
    "data.user.unique()"
   ]
  },
  {
   "cell_type": "code",
   "execution_count": 65,
   "metadata": {},
   "outputs": [
    {
     "data": {
      "text/plain": [
       "['apple/ml-ferret', 'anasfik/flutter-spy', 'ofek/pyapp', 'hiyouga/LLaMA-Factory', 'blakeblackshear/frigate', ..., 'alsyundawy/Parallels', 'sdg-1/consulting-handbook', 'Yidadaa/ChatGPT-Next-Web', 'samuelcolvin/FastUI', 'FuelLabs/fuels-ts']\n",
       "Length: 993\n",
       "Categories (993, object): ['01-ai/Yi', '01mf02/jaq', '100xdevs-cohort-2/assignments', '1Panel-dev/1Panel', ..., 'ziglang/zig', 'zijie0/HumanSystemOptimization', 'zulip/zulip', 'zzzgydi/clash-verge']"
      ]
     },
     "execution_count": 65,
     "metadata": {},
     "output_type": "execute_result"
    }
   ],
   "source": [
    "data.repo.unique()"
   ]
  },
  {
   "cell_type": "code",
   "execution_count": 122,
   "metadata": {
    "collapsed": false,
    "jupyter": {
     "outputs_hidden": false
    }
   },
   "outputs": [],
   "source": [
    "# map each repo and user to a unique numeric value\n",
    "data['user'] = data['user'].astype(\"category\")\n",
    "data['repo'] = data['repo'].astype(\"category\")\n",
    "\n",
    "# create a sparse matrix of all the users/repos\n",
    "stars = coo_matrix((np.ones(data.shape[0]),\n",
    "                   (data['user'].cat.codes.copy(), \n",
    "                    data['repo'].cat.codes.copy())))"
   ]
  },
  {
   "cell_type": "code",
   "execution_count": 123,
   "metadata": {
    "collapsed": false,
    "jupyter": {
     "outputs_hidden": false
    }
   },
   "outputs": [
    {
     "data": {
      "text/plain": [
       "<8896x993 sparse matrix of type '<class 'numpy.float64'>'\n",
       "\twith 160360 stored elements in COOrdinate format>"
      ]
     },
     "execution_count": 123,
     "metadata": {},
     "output_type": "execute_result"
    }
   ],
   "source": [
    "stars"
   ]
  },
  {
   "cell_type": "code",
   "execution_count": 124,
   "metadata": {},
   "outputs": [],
   "source": [
    "import seaborn as sns"
   ]
  },
  {
   "cell_type": "code",
   "execution_count": 132,
   "metadata": {},
   "outputs": [],
   "source": [
    "repos_stars = stars.sum(0).T.squeeze()"
   ]
  },
  {
   "cell_type": "code",
   "execution_count": 135,
   "metadata": {},
   "outputs": [
    {
     "data": {
      "text/plain": [
       "Text(0.5, 1.0, 'Stars received by repositories')"
      ]
     },
     "execution_count": 135,
     "metadata": {},
     "output_type": "execute_result"
    },
    {
     "data": {
      "image/png": "[encoded data removed]",
      "text/plain": [
       "<Figure size 640x480 with 1 Axes>"
      ]
     },
     "metadata": {},
     "output_type": "display_data"
    }
   ],
   "source": [
    "sns.histplot(repos_stars.T, legend=None).set_title('Stars received by repositories')"
   ]
  },
  {
   "cell_type": "code",
   "execution_count": 140,
   "metadata": {
    "collapsed": false,
    "jupyter": {
     "outputs_hidden": false
    }
   },
   "outputs": [],
   "source": [
    "# retrieve repository names and ids\n",
    "repos = dict(enumerate(data['repo'].cat.categories))\n",
    "repo_ids = {r: i for i, r in repos.items()}"
   ]
  },
  {
   "cell_type": "code",
   "execution_count": 136,
   "metadata": {},
   "outputs": [],
   "source": [
    "# top five repositories in Dec 2023\n",
    "max_stars_ind = repos_stars.argpartition(-5)[:, -5:]"
   ]
  },
  {
   "cell_type": "code",
   "execution_count": 137,
   "metadata": {},
   "outputs": [
    {
     "name": "stdout",
     "output_type": "stream",
     "text": [
      "magic-research/magic-animate\n",
      "Frooodle/Stirling-PDF\n",
      "cumulo-autumn/StreamDiffusion\n",
      "linexjlin/GPTs\n",
      "lobehub/lobe-chat\n"
     ]
    }
   ],
   "source": [
    "for i in max_stars_ind.A1:\n",
    "    print(repos[i])"
   ]
  },
  {
   "cell_type": "code",
   "execution_count": 138,
   "metadata": {
    "collapsed": false,
    "jupyter": {
     "outputs_hidden": false
    }
   },
   "outputs": [],
   "source": [
    "# Using the sparse matrix, we may train a low rank model using the ALS algorithm\n",
    "model = AlternatingLeastSquares(factors=50,\n",
    "                                regularization=0.01,\n",
    "                                dtype=np.float64,\n",
    "                                iterations=50)"
   ]
  },
  {
   "cell_type": "code",
   "execution_count": 139,
   "metadata": {
    "collapsed": false,
    "jupyter": {
     "outputs_hidden": false
    }
   },
   "outputs": [
    {
     "name": "stderr",
     "output_type": "stream",
     "text": [
      "C:\\Users\\moses\\.venv\\de300\\Lib\\site-packages\\implicit\\utils.py:164: ParameterWarning: Method expects CSR input, and was passed coo_matrix instead. Converting to CSR took 0.007787227630615234 seconds\n",
      "  warnings.warn(\n"
     ]
    },
    {
     "data": {
      "application/vnd.jupyter.widget-view+json": {
       "model_id": "4b778bf2359a433d8759c1a42737af83",
       "version_major": 2,
       "version_minor": 0
      },
      "text/plain": [
       "  0%|          | 0/50 [00:00<?, ?it/s]"
      ]
     },
     "metadata": {},
     "output_type": "display_data"
    }
   ],
   "source": [
    "confidence = 40\n",
    "model.fit(confidence * stars)"
   ]
  },
  {
   "cell_type": "code",
   "execution_count": 141,
   "metadata": {},
   "outputs": [
    {
     "data": {
      "text/plain": [
       "(array([886, 792, 831, 743, 790, 460, 380, 590, 912, 903]),\n",
       " array([1.        , 0.67121715, 0.63095779, 0.56379745, 0.55901204,\n",
       "        0.55380695, 0.50655888, 0.4594498 , 0.44374533, 0.40212771]))"
      ]
     },
     "execution_count": 141,
     "metadata": {},
     "output_type": "execute_result"
    }
   ],
   "source": [
    "# retrieve top \"similar\" repositories given an entry\n",
    "model.similar_items(repo_ids['tensorflow/tensorflow'])"
   ]
  },
  {
   "cell_type": "code",
   "execution_count": 142,
   "metadata": {
    "collapsed": false,
    "jupyter": {
     "outputs_hidden": false
    }
   },
   "outputs": [
    {
     "name": "stdout",
     "output_type": "stream",
     "text": [
      "tensorflow/tensorflow 1.0\n",
      "pytorch/pytorch 0.671217152423488\n",
      "scikit-learn/scikit-learn 0.630957789402227\n",
      "opencv/opencv 0.5637974508120365\n",
      "python/cpython 0.5590120373055667\n",
      "github/gitignore 0.5538069504913824\n",
      "django/django 0.5065588832012623\n",
      "kubernetes/kubernetes 0.45944979518404866\n",
      "twbs/bootstrap 0.4437453259482051\n",
      "torvalds/linux 0.40212770999514447\n"
     ]
    }
   ],
   "source": [
    "r, s = model.similar_items(repo_ids['tensorflow/tensorflow'])\n",
    "for k in range(len(r)):\n",
    "    print(repos[r[k]], s[k])"
   ]
  },
  {
   "cell_type": "code",
   "execution_count": 143,
   "metadata": {
    "collapsed": false,
    "jupyter": {
     "outputs_hidden": false
    }
   },
   "outputs": [],
   "source": [
    "def user_stars(user):\n",
    "    repos = []\n",
    "    url = \"https://api.github.com/users/{}/starred\".format(user)\n",
    "    while url:\n",
    "        resp = requests.get(url, auth=github_auth)\n",
    "        repos += [r[\"full_name\"] for r in resp.json()]\n",
    "        url = resp.links[\"next\"][\"url\"] if \"next\" in resp.links else None\n",
    "    return repos\n",
    "\n",
    "def user_items(u_stars):\n",
    "    star_ids = [repo_ids[s] for s in u_stars if s in repo_ids]\n",
    "    data = [confidence for _ in star_ids]\n",
    "    rows = [0 for _ in star_ids]\n",
    "    shape = (1, model.item_factors.shape[0])\n",
    "    return coo_matrix((data, (rows, star_ids)), shape=shape).tocsr()"
   ]
  },
  {
   "cell_type": "code",
   "execution_count": 171,
   "metadata": {
    "collapsed": false,
    "jupyter": {
     "outputs_hidden": false
    }
   },
   "outputs": [
    {
     "data": {
      "text/plain": [
       "(1, 993)"
      ]
     },
     "execution_count": 171,
     "metadata": {},
     "output_type": "execute_result"
    }
   ],
   "source": [
    "jbochi = user_items(user_stars(\"jbochi\"))"
   ]
  },
  {
   "cell_type": "code",
   "execution_count": 173,
   "metadata": {
    "collapsed": false,
    "jupyter": {
     "outputs_hidden": false
    }
   },
   "outputs": [],
   "source": [
    "def recommend(user_items):\n",
    "    recs = model.recommend(userid=0, user_items=user_items, recalculate_user=True)\n",
    "    r, s = recs\n",
    "        \n",
    "    for k in range(len(r)):\n",
    "        print(repos[r[k]], s[k])\n",
    "    return"
   ]
  },
  {
   "cell_type": "code",
   "execution_count": 156,
   "metadata": {
    "collapsed": false,
    "jupyter": {
     "outputs_hidden": false
    },
    "scrolled": true
   },
   "outputs": [
    {
     "name": "stdout",
     "output_type": "stream",
     "text": [
      "pytorch/pytorch 1.0826900464004112\n",
      "python/cpython 0.9887264137013962\n",
      "godotengine/godot 0.9473141561714656\n",
      "tiangolo/fastapi 0.9387902117490773\n",
      "astral-sh/ruff 0.926881885357192\n",
      "jmorganca/ollama 0.9213744145886348\n",
      "grafana/grafana 0.8618922052213107\n",
      "tauri-apps/tauri 0.8471787713367438\n",
      "github/gitignore 0.8440967549120978\n",
      "openai/whisper 0.8410631315978935\n"
     ]
    }
   ],
   "source": [
    "recommend(jbochi)"
   ]
  },
  {
   "cell_type": "code",
   "execution_count": null,
   "metadata": {},
   "outputs": [],
   "source": []
  }
 ],
 "metadata": {
  "kernelspec": {
   "display_name": "Python 3 (ipykernel)",
   "language": "python",
   "name": "python3"
  },
  "language_info": {
   "codemirror_mode": {
    "name": "ipython",
    "version": 3
   },
   "file_extension": ".py",
   "mimetype": "text/x-python",
   "name": "python",
   "nbconvert_exporter": "python",
   "pygments_lexer": "ipython3",
   "version": "3.11.7"
  },
  "widgets": {
   "application/vnd.jupyter.widget-state+json": {
    "state": {},
    "version_major": 2,
    "version_minor": 0
   }
  }
 },
 "nbformat": 4,
 "nbformat_minor": 4
}
