{
 "cells": [
  {
   "cell_type": "markdown",
   "id": "ff87e36d",
   "metadata": {
    "colab_type": "text",
    "id": "view-in-github"
   },
   "source": [
    "<a href=\"https://colab.research.google.com/github/mosesyhc/de300-wn2024-notes/blob/main/lab/DATAENG300_Lab2_Template.ipynb\" target=\"_parent\"><img src=\"https://colab.research.google.com/assets/colab-badge.svg\" alt=\"Open In Colab\"/></a>"
   ]
  },
  {
   "cell_type": "markdown",
   "id": "500752d7-8255-4998-ab7a-a5015f5ff5f4",
   "metadata": {
    "id": "500752d7-8255-4998-ab7a-a5015f5ff5f4"
   },
   "source": [
    "# Lab 3 - Electronic health record\n",
    "\n",
    "**Before you begin**, make a copy of this notebook via `File -> Save a Copy` or `Copy to Drive` above.  Rename to include your name.\n",
    "\n",
    "---\n",
    "\n",
    "## Interview feedback\n",
    "Write down one or more observation(s) you find relevant during the conversation with our January 25 speaker.\n"
   ]
  },
  {
   "cell_type": "markdown",
   "id": "fZlhfSfn56-S",
   "metadata": {
    "id": "fZlhfSfn56-S"
   },
   "source": [
    "---\n",
    "\n",
    "## Lab\n",
    "\n",
    "This lab takes a look at the demo database MIMIC III (Medical Information Mart for Intensive Care III), which contains deidentified health-related data associated with 100 patients who stayed in critical care units of the Beth Israel Deaconess Medical Center between 2001 and 2012.\n",
    "\n",
    "The table properties may be found in the MIMIC III documentation: https://mimic.mit.edu/docs/iii/tables/.\n",
    "\n",
    "*Note about MIMIC III:* The full dataset (with over 40000 patients) is only available under a specific data use agreement and is outside the scope for our purposes.\n",
    "\n",
    "### Tasks:\n",
    "\n",
    "Include your answer along with the query you used to answer each of the following questions:\n",
    "\n",
    "1. How many unique procedures are performed?\n",
    "2. Name the five most-performed procedures.\n",
    "3. How long did the patients stay admitted given that they underwent the most-performed procedure?  Give a summary.\n",
    "4. What are the proportions of male/female, and the average age for the patients undergoing each of the procedures in (2).\n",
    "\n",
    "**Submission:**\n",
    "You will submit the `.ipynb` notebook file and any supporting information you see fit."
   ]
  },
  {
   "cell_type": "code",
   "execution_count": null,
   "id": "187b9314-d204-4b3e-80fc-8f9d60584846",
   "metadata": {},
   "outputs": [],
   "source": [
    "# !pip install duckdb==0.9.2  # for duckdb installation"
   ]
  },
  {
   "cell_type": "code",
   "execution_count": 1,
   "id": "13b6b0d9-d526-4941-9877-bd60b9daee98",
   "metadata": {
    "id": "13b6b0d9-d526-4941-9877-bd60b9daee98"
   },
   "outputs": [],
   "source": [
    "import pandas as pd\n",
    "import duckdb"
   ]
  },
  {
   "cell_type": "code",
   "execution_count": 6,
   "id": "065a6f19-7540-41ac-b9db-cc1819f20474",
   "metadata": {},
   "outputs": [],
   "source": [
    "# establish connection\n",
    "conn = duckdb.connect('dataset/mimic.db', read_only=True)"
   ]
  },
  {
   "cell_type": "code",
   "execution_count": null,
   "id": "d24972a5-48d0-414c-b270-e0d3558d3b54",
   "metadata": {},
   "outputs": [],
   "source": [
    "# # If mimic.db does not connect correctly, we can establish a new database 'mimic.db' with the following code.\n",
    "# conn = duckdb.connect(\"dataset/mimic.db\")\n",
    "\n",
    "# def try_upload_csv(conn,filepath,name):\n",
    "#     df = pd.read_csv(filepath)\n",
    "#     try:\n",
    "#         df.to_sql(name,conn,index=False)\n",
    "#         print(f\"Uploaded dataset to {name}\")\n",
    "#     except ValueError as e:\n",
    "#         print(f\"{name} already exists\")\n",
    "\n",
    "# try_upload_csv(conn,\"dataset/mimic3/ICUSTAYS.csv\", \"ICUSTAYS\")\n",
    "# try_upload_csv(conn,\"dataset/mimic3/PATIENTS.csv\",\"PATIENTS\")\n",
    "# try_upload_csv(conn,\"dataset/mimic3/ADMISSIONS.csv\",\"ADMISSIONS\")\n",
    "# try_upload_csv(conn,\"dataset/mimic3/D_ICD_PROCEDURES.csv\",\"D_ICDPROCS\")\n",
    "# try_upload_csv(conn,\"dataset/mimic3/PROCEDURES_ICD.csv\",\"PROCS_ICD\")\n",
    "# conn.close()"
   ]
  },
  {
   "cell_type": "code",
   "execution_count": null,
   "id": "6f996d25-14bb-45a4-a88a-d292f0afbc2d",
   "metadata": {},
   "outputs": [],
   "source": [
    "# template\n",
    "conn.sql(\n",
    "    \"\"\"\n",
    "\n",
    "    \"\"\"\n",
    ")"
   ]
  },
  {
   "cell_type": "markdown",
   "id": "fpCT90xsg7-l",
   "metadata": {
    "id": "fpCT90xsg7-l"
   },
   "source": [
    "# Generative AI disclosure\n",
    "In this course, you are generally allowed to use Generative Artificial Intelligence (GAI). Any use of GAI should be accompanied by a disclosure at the end of an assignment explaining (1) what you used GAI for; (2) the specific tool(s) you used; and (3) what prompts you used to get the results.\n",
    "\n",
    "**Include** any disclosure below."
   ]
  }
 ],
 "metadata": {
  "colab": {
   "include_colab_link": true,
   "provenance": []
  },
  "kernelspec": {
   "display_name": "Python 3 (ipykernel)",
   "language": "python",
   "name": "python3"
  },
  "language_info": {
   "codemirror_mode": {
    "name": "ipython",
    "version": 3
   },
   "file_extension": ".py",
   "mimetype": "text/x-python",
   "name": "python",
   "nbconvert_exporter": "python",
   "pygments_lexer": "ipython3",
   "version": "3.11.7"
  },
  "widgets": {
   "application/vnd.jupyter.widget-state+json": {
    "state": {},
    "version_major": 2,
    "version_minor": 0
   }
  }
 },
 "nbformat": 4,
 "nbformat_minor": 5
}
