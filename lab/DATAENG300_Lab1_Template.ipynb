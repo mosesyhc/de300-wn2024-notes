{
  "cells": [
    {
      "cell_type": "markdown",
      "metadata": {
        "id": "view-in-github",
        "colab_type": "text"
      },
      "source": [
        "<a href=\"https://colab.research.google.com/github/mosesyhc/de300-wn2024-notes/blob/main/lab/DATAENG300_Lab1_Template.ipynb\" target=\"_parent\"><img src=\"https://colab.research.google.com/assets/colab-badge.svg\" alt=\"Open In Colab\"/></a>"
      ]
    },
    {
      "cell_type": "markdown",
      "id": "500752d7-8255-4998-ab7a-a5015f5ff5f4",
      "metadata": {
        "id": "500752d7-8255-4998-ab7a-a5015f5ff5f4"
      },
      "source": [
        "# Lab 1 - Exploratory Data Analysis with Penguins\n",
        "\n",
        "**Before you begin**, make a copy of this notebook via `File -> Save a Copy` or `Copy to Drive` above.  Rename to include your name.\n",
        "\n",
        "---\n",
        "\n",
        "Refer to the first set of [Exploratory Data Analysis notes](https://mosesyhc.github.io/de300-wn2024-notes/notes/02-exploratory-data-analysis.html).\n",
        "\n",
        "Use the notes as a guide to explore the Penguins dataset and answer the following questions.  For any of the questions, you may use summary statistics, tables, or graphs to support your answer.\n",
        "\n",
        "- Are there any missing data?  If so, report the missingness.\n",
        "- Provide a summary for the length characteristics (`bill_length_mm` and `flipper_length_mm`) of penguins.  \n",
        "- Do the penguin sizes differ by species?\n",
        "- Do the penguin sizes differ by the residence island?\n",
        "- Investigate one additional relationship of your own choice.  List the question, and provide the answer.\n",
        "\n",
        "**Submission:**\n",
        "You will submit the `.ipynb` notebook file and any supporting information you see fit."
      ]
    },
    {
      "cell_type": "code",
      "execution_count": null,
      "id": "5223355c-5568-4864-8f39-553c3116f488",
      "metadata": {
        "id": "5223355c-5568-4864-8f39-553c3116f488"
      },
      "outputs": [],
      "source": [
        "# !pip install --upgrade seaborn  # in case you need to install the seaborn package"
      ]
    },
    {
      "cell_type": "code",
      "execution_count": null,
      "id": "13b6b0d9-d526-4941-9877-bd60b9daee98",
      "metadata": {
        "id": "13b6b0d9-d526-4941-9877-bd60b9daee98"
      },
      "outputs": [],
      "source": [
        "import seaborn as sns\n",
        "\n",
        "penguins = sns.load_dataset('penguins', cache=False, data_home='dataset')\n",
        "penguins.info()"
      ]
    }
  ],
  "metadata": {
    "kernelspec": {
      "display_name": "Python 3 (ipykernel)",
      "language": "python",
      "name": "python3"
    },
    "language_info": {
      "codemirror_mode": {
        "name": "ipython",
        "version": 3
      },
      "file_extension": ".py",
      "mimetype": "text/x-python",
      "name": "python",
      "nbconvert_exporter": "python",
      "pygments_lexer": "ipython3",
      "version": "3.11.7"
    },
    "colab": {
      "provenance": [],
      "include_colab_link": true
    }
  },
  "nbformat": 4,
  "nbformat_minor": 5
}