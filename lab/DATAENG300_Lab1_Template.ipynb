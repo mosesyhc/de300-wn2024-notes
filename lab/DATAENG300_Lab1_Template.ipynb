{
 "cells": [
  {
   "cell_type": "markdown",
   "id": "500752d7-8255-4998-ab7a-a5015f5ff5f4",
   "metadata": {},
   "source": [
    "# Lab 1 - Exploratory Data Analysis with Penguins\n",
    "\n",
    "Refer to the first set of [Exploratory Data Analysis notes](https://mosesyhc.github.io/de300-wn2024-notes/notes/02-exploratory-data-analysis.html).\n",
    "\n",
    "Use the notes as a guide to explore the Penguins dataset and answer the following questions.  For any of the questions, you may use summary statistics, tables, or graphs to support your answer.\n",
    "\n",
    "- Are there any missing data?  If so, report the missingness.\n",
    "- Provide a summary for the length characteristics (`bill_length_mm` and `flipper_length_mm`) of penguins.  \n",
    "- Do the penguin sizes differ by species?\n",
    "- Do the penguin sizes differ by the residence island?\n",
    "- Investigate one additional relationship of your own choice.  List the question, and provide the answer."
   ]
  },
  {
   "cell_type": "code",
   "execution_count": 3,
   "id": "5223355c-5568-4864-8f39-553c3116f488",
   "metadata": {},
   "outputs": [],
   "source": [
    "# !pip install seaborn  # in case you need to install the seaborn package"
   ]
  },
  {
   "cell_type": "code",
   "execution_count": 2,
   "id": "13b6b0d9-d526-4941-9877-bd60b9daee98",
   "metadata": {},
   "outputs": [
    {
     "name": "stdout",
     "output_type": "stream",
     "text": [
      "<class 'pandas.core.frame.DataFrame'>\n",
      "RangeIndex: 344 entries, 0 to 343\n",
      "Data columns (total 7 columns):\n",
      " #   Column             Non-Null Count  Dtype  \n",
      "---  ------             --------------  -----  \n",
      " 0   species            344 non-null    object \n",
      " 1   island             344 non-null    object \n",
      " 2   bill_length_mm     342 non-null    float64\n",
      " 3   bill_depth_mm      342 non-null    float64\n",
      " 4   flipper_length_mm  342 non-null    float64\n",
      " 5   body_mass_g        342 non-null    float64\n",
      " 6   sex                333 non-null    object \n",
      "dtypes: float64(4), object(3)\n",
      "memory usage: 18.9+ KB\n"
     ]
    }
   ],
   "source": [
    "import seaborn as sns\n",
    "\n",
    "penguins = sns.load_dataset('penguins', cache=True, data_home='dataset')\n",
    "penguins.info()"
   ]
  }
 ],
 "metadata": {
  "kernelspec": {
   "display_name": "Python 3 (ipykernel)",
   "language": "python",
   "name": "python3"
  },
  "language_info": {
   "codemirror_mode": {
    "name": "ipython",
    "version": 3
   },
   "file_extension": ".py",
   "mimetype": "text/x-python",
   "name": "python",
   "nbconvert_exporter": "python",
   "pygments_lexer": "ipython3",
   "version": "3.11.7"
  }
 },
 "nbformat": 4,
 "nbformat_minor": 5
}
