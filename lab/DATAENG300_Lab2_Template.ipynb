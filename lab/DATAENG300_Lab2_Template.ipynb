{
  "cells": [
    {
      "cell_type": "markdown",
      "metadata": {
        "id": "view-in-github",
        "colab_type": "text"
      },
      "source": [
        "<a href=\"https://colab.research.google.com/github/mosesyhc/de300-wn2024-notes/blob/main/lab/DATAENG300_Lab2_Template.ipynb\" target=\"_parent\"><img src=\"https://colab.research.google.com/assets/colab-badge.svg\" alt=\"Open In Colab\"/></a>"
      ]
    },
    {
      "cell_type": "markdown",
      "id": "500752d7-8255-4998-ab7a-a5015f5ff5f4",
      "metadata": {
        "id": "500752d7-8255-4998-ab7a-a5015f5ff5f4"
      },
      "source": [
        "# Lab 2 - Outlier detection\n",
        "\n",
        "**Before you begin**, make a copy of this notebook via `File -> Save a Copy` or `Copy to Drive` above.  Rename to include your name.\n",
        "\n",
        "---\n",
        "\n",
        "*Interview question*\n",
        "\n",
        "On January 25, we will have about 45 minutes with our guest speaker, who is a senior market analyst at [Instacart](https://instacart.careers/).  The career website is included for your reference.  \n",
        "\n",
        "Include one question you would like to ask our guest."
      ]
    },
    {
      "cell_type": "markdown",
      "source": [
        "---\n",
        "\n",
        "*Lab*\n",
        "\n",
        "The shuttle dataset contains 9 predictors in `shuttle['X']` and 1 response variable in `shuttle['y']`.\n",
        "\n",
        "**Main task: Treating `y=1` as the outliers.  Train a model using outlier detection methods.**\n",
        "\n",
        "For each of the following methods, evaluate the outlier detection method with a 10-fold cross validation, i.e., divide the dataset into 10 portions, train using 9 portions and test using the remaining portion.  Report the average accuracy and the standard deviation.\n",
        "1. Logistic regression (`sklearn.linear_model.LogisticRegression`).\n",
        "2. Random forest (`sklearn.ensemble.RandomForestClassifier`).\n",
        "3. kNN with number of neighbors = 10 (`sklearn.neighbors.KNeighborsClassifier`)\n",
        "\n",
        "**Submission:**\n",
        "You will submit the `.ipynb` notebook file and any supporting information you see fit."
      ],
      "metadata": {
        "id": "fZlhfSfn56-S"
      },
      "id": "fZlhfSfn56-S"
    },
    {
      "cell_type": "code",
      "execution_count": null,
      "id": "13b6b0d9-d526-4941-9877-bd60b9daee98",
      "metadata": {
        "id": "13b6b0d9-d526-4941-9877-bd60b9daee98"
      },
      "outputs": [],
      "source": [
        "import numpy as np\n",
        "import scipy\n",
        "\n",
        "shuttle = scipy.io.loadmat('dataset/shuttle.mat')\n",
        "X, y = shuttle['X'], shuttle['y']  # y contains the 0/1 label"
      ]
    },
    {
      "cell_type": "markdown",
      "id": "fpCT90xsg7-l",
      "metadata": {
        "id": "fpCT90xsg7-l"
      },
      "source": [
        "# Generative AI disclosure\n",
        "In this course, you are generally allowed to use Generative Artificial Intelligence (GAI). Any use of GAI should be accompanied by a disclosure at the end of an assignment explaining (1) what you used GAI for; (2) the specific tool(s) you used; and (3) what prompts you used to get the results.\n",
        "\n",
        "**Include** any disclosure below."
      ]
    }
  ],
  "metadata": {
    "colab": {
      "provenance": [],
      "include_colab_link": true
    },
    "kernelspec": {
      "display_name": "Python 3 (ipykernel)",
      "language": "python",
      "name": "python3"
    },
    "language_info": {
      "codemirror_mode": {
        "name": "ipython",
        "version": 3
      },
      "file_extension": ".py",
      "mimetype": "text/x-python",
      "name": "python",
      "nbconvert_exporter": "python",
      "pygments_lexer": "ipython3",
      "version": "3.11.5"
    }
  },
  "nbformat": 4,
  "nbformat_minor": 5
}