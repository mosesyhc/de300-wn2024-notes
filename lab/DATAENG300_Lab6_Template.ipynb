{
 "cells": [
  {
   "cell_type": "markdown",
   "id": "ff87e36d",
   "metadata": {
    "colab_type": "text",
    "id": "view-in-github"
   },
   "source": [
    "<a href=\"https://colab.research.google.com/github/mosesyhc/de300-wn2024-notes/blob/main/lab/DATAENG300_Lab6_Template.ipynb\" target=\"_parent\"><img src=\"https://colab.research.google.com/assets/colab-badge.svg\" alt=\"Open In Colab\"/></a>"
   ]
  },
  {
   "cell_type": "markdown",
   "id": "500752d7-8255-4998-ab7a-a5015f5ff5f4",
   "metadata": {
    "id": "500752d7-8255-4998-ab7a-a5015f5ff5f4"
   },
   "source": [
    "# Lab 6 - News articles processing\n",
    "\n",
    "**Before you begin**, make a copy of this notebook via `File -> Save a Copy` or `Copy to Drive` above.  Rename to include your name.\n"
   ]
  },
  {
   "cell_type": "markdown",
   "id": "bc652617-201b-4eed-b533-7eef93eb352b",
   "metadata": {
    "id": "fZlhfSfn56-S"
   },
   "source": [
    "---\n",
    "\n",
    "## Lab\n",
    "This lab utilizes PySpark introduced in the word count example for analysis of news articles.\n",
    "\n",
    "### Dataset\n",
    "The dataset `dataset/agnews.csv` contains a list of \\~130,000 news articles descriptions.  The original dataset is a result of the AG corpus project (http://groups.di.unipi.it/~gulli/AG_corpus_of_news_articles.html). \n",
    "\n",
    "### Tasks\n",
    "Use PySpark to complete the following tasks:  \n",
    "1. Combine the text columns into one column.  This step should result a dataframe of only two columns (`index` and your combined text).  *Note*: `concat_ws()` may be useful.\n",
    "3. For each `index`, return the five most frequently used words and their counts.\n",
    "   - Pre-process the text in your combined text column such that\n",
    "     - only words are retained,\n",
    "     - all words are in lowercase.\n",
    "   - (*optional*) Remove the stop words before returning the results.\n",
    "     - The code in the appendix includes a list of \"stop words\", which are English words required to fill a sentence but in themselves have little meaning.  "
   ]
  },
  {
   "cell_type": "code",
   "execution_count": null,
   "id": "151eb34c-fb48-4ccd-a718-730b050c86d7",
   "metadata": {
    "id": "fZlhfSfn56-S"
   },
   "outputs": [],
   "source": [
    "from pyspark.sql import SparkSession \n",
    "\n",
    "spark = (SparkSession.builder \n",
    "         .appName(\"AG news\") \n",
    "         .getOrCreate())"
   ]
  },
  {
   "cell_type": "code",
   "execution_count": 64,
   "id": "0c978463-0313-416a-8b67-fbc82f36b450",
   "metadata": {},
   "outputs": [],
   "source": [
    "# renaming columns\n",
    "agnews = spark.read.csv('dataset/agnews.csv', header=True)\n",
    "agnews = agnews.withColumnRenamed('Class Index', 'index')\n",
    "agnews = agnews.withColumnRenamed('Title', 'title')\n",
    "agnews = agnews.withColumnRenamed('Description', 'description')"
   ]
  },
  {
   "cell_type": "code",
   "execution_count": 65,
   "id": "33db8b57-9174-4863-9d08-23c25e852644",
   "metadata": {},
   "outputs": [
    {
     "name": "stdout",
     "output_type": "stream",
     "text": [
      "+-----+--------------------+--------------------+\n",
      "|index|               title|         description|\n",
      "+-----+--------------------+--------------------+\n",
      "|    3|Wall St. Bears Cl...|Reuters - Short-s...|\n",
      "|    3|Carlyle Looks Tow...|Reuters - Private...|\n",
      "|    3|Oil and Economy C...|Reuters - Soaring...|\n",
      "|    3|Iraq Halts Oil Ex...|Reuters - Authori...|\n",
      "|    3|Oil prices soar t...|AFP - Tearaway wo...|\n",
      "+-----+--------------------+--------------------+\n",
      "only showing top 5 rows\n",
      "\n",
      "+-----+--------------------+--------------------+\n",
      "|index|               title|         description|\n",
      "+-----+--------------------+--------------------+\n",
      "|    3|Wall St. Bears Cl...|Reuters - Short-s...|\n",
      "|    3|Carlyle Looks Tow...|Reuters - Private...|\n",
      "|    3|Oil and Economy C...|Reuters - Soaring...|\n",
      "|    3|Iraq Halts Oil Ex...|Reuters - Authori...|\n",
      "|    3|Oil prices soar t...|AFP - Tearaway wo...|\n",
      "+-----+--------------------+--------------------+\n",
      "only showing top 5 rows\n",
      "\n",
      "3\n"
     ]
    }
   ],
   "source": [
    "# show first 5 rows of our dataset\n",
    "agnews.show(5)\n",
    "\n",
    "# example of selecting multiple columns\n",
    "agnews.select(F.col('index'), F.col('title'), F.col('description')).show(5)\n",
    "\n",
    "# example of finding unique values in a column\n",
    "# collect() queries the results and saves into the variable\n",
    "unique_indices = agnews2.select('index').distinct().collect()\n",
    "print(unique_indices[0][0])"
   ]
  },
  {
   "cell_type": "markdown",
   "id": "b6c75b89-4bcf-406d-bf26-b617d1f5817c",
   "metadata": {
    "id": "fZlhfSfn56-S"
   },
   "source": [
    "**Submission:**\n",
    "You will submit the `.ipynb` notebook file and any supporting information you see fit."
   ]
  },
  {
   "cell_type": "markdown",
   "id": "d279b15b-884b-4edb-8978-5cfd20ce4302",
   "metadata": {},
   "source": [
    "### Appendix"
   ]
  },
  {
   "cell_type": "code",
   "execution_count": null,
   "id": "a6430392-ec48-4baa-9284-2ea58a617d5b",
   "metadata": {},
   "outputs": [],
   "source": [
    "# optional code for stopwords\n",
    "# !pip install nltk\n",
    "import nltk\n",
    "# nltk.download('stopwords')\n",
    "from nltk.corpus import stopwords\n",
    "stop = set(stopwords.words('english'))\n",
    "print(stop)"
   ]
  },
  {
   "cell_type": "markdown",
   "id": "fpCT90xsg7-l",
   "metadata": {
    "id": "fpCT90xsg7-l"
   },
   "source": [
    "# Generative AI disclosure\n",
    "In this course, you are generally allowed to use Generative Artificial Intelligence (GAI). Any use of GAI should be accompanied by a disclosure at the end of an assignment explaining (1) what you used GAI for; (2) the specific tool(s) you used; and (3) what prompts you used to get the results.\n",
    "\n",
    "**Include** any disclosure below."
   ]
  }
 ],
 "metadata": {
  "colab": {
   "include_colab_link": true,
   "provenance": []
  },
  "kernelspec": {
   "display_name": "Python 3 (ipykernel)",
   "language": "python",
   "name": "python3"
  },
  "language_info": {
   "codemirror_mode": {
    "name": "ipython",
    "version": 3
   },
   "file_extension": ".py",
   "mimetype": "text/x-python",
   "name": "python",
   "nbconvert_exporter": "python",
   "pygments_lexer": "ipython3",
   "version": "3.11.7"
  },
  "widgets": {
   "application/vnd.jupyter.widget-state+json": {
    "state": {},
    "version_major": 2,
    "version_minor": 0
   }
  }
 },
 "nbformat": 4,
 "nbformat_minor": 5
}
