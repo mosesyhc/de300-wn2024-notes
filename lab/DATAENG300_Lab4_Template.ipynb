{
 "cells": [
  {
   "cell_type": "markdown",
   "id": "ff87e36d",
   "metadata": {
    "colab_type": "text",
    "id": "view-in-github"
   },
   "source": [
    "<a href=\"https://colab.research.google.com/github/mosesyhc/de300-wn2024-notes/blob/main/lab/DATAENG300_Lab2_Template.ipynb\" target=\"_parent\"><img src=\"https://colab.research.google.com/assets/colab-badge.svg\" alt=\"Open In Colab\"/></a>"
   ]
  },
  {
   "cell_type": "markdown",
   "id": "500752d7-8255-4998-ab7a-a5015f5ff5f4",
   "metadata": {
    "id": "500752d7-8255-4998-ab7a-a5015f5ff5f4"
   },
   "source": [
    "# Lab 4 - Keyspaces introduction\n",
    "\n",
    "**Before you begin**, make a copy of this notebook via `File -> Save a Copy` or `Copy to Drive` above.  Rename to include your name.\n"
   ]
  },
  {
   "cell_type": "markdown",
   "id": "bc652617-201b-4eed-b533-7eef93eb352b",
   "metadata": {
    "id": "fZlhfSfn56-S"
   },
   "source": [
    "---\n",
    "\n",
    "## Lab\n",
    "This lab is a first introduction to Amazon Keyspaces.  Follow the instructions below.\n",
    "\n",
    "### Dataset\n",
    "Consider the MIMIC-III based dataset from `dataset/mimic_keyspace_data.csv`."
   ]
  },
  {
   "cell_type": "code",
   "execution_count": 6,
   "id": "151eb34c-fb48-4ccd-a718-730b050c86d7",
   "metadata": {
    "id": "fZlhfSfn56-S"
   },
   "outputs": [
    {
     "data": {
      "text/html": [
       "<div>\n",
       "<style scoped>\n",
       "    .dataframe tbody tr th:only-of-type {\n",
       "        vertical-align: middle;\n",
       "    }\n",
       "\n",
       "    .dataframe tbody tr th {\n",
       "        vertical-align: top;\n",
       "    }\n",
       "\n",
       "    .dataframe thead th {\n",
       "        text-align: right;\n",
       "    }\n",
       "</style>\n",
       "<table border=\"1\" class=\"dataframe\">\n",
       "  <thead>\n",
       "    <tr style=\"text-align: right;\">\n",
       "      <th></th>\n",
       "      <th>subject_id</th>\n",
       "      <th>hadm_id</th>\n",
       "      <th>icd9_code</th>\n",
       "      <th>age</th>\n",
       "      <th>gender</th>\n",
       "      <th>admission_type</th>\n",
       "      <th>insurance</th>\n",
       "      <th>ethnicity</th>\n",
       "      <th>hospital_expire_flag</th>\n",
       "    </tr>\n",
       "  </thead>\n",
       "  <tbody>\n",
       "    <tr>\n",
       "      <th>0</th>\n",
       "      <td>41976</td>\n",
       "      <td>173269</td>\n",
       "      <td>3891</td>\n",
       "      <td>65.800000</td>\n",
       "      <td>M</td>\n",
       "      <td>EMERGENCY</td>\n",
       "      <td>Medicare</td>\n",
       "      <td>HISPANIC/LATINO - PUERTO RICAN</td>\n",
       "      <td>0</td>\n",
       "    </tr>\n",
       "    <tr>\n",
       "      <th>1</th>\n",
       "      <td>41976</td>\n",
       "      <td>172082</td>\n",
       "      <td>966</td>\n",
       "      <td>65.076712</td>\n",
       "      <td>M</td>\n",
       "      <td>EMERGENCY</td>\n",
       "      <td>Medicare</td>\n",
       "      <td>HISPANIC/LATINO - PUERTO RICAN</td>\n",
       "      <td>0</td>\n",
       "    </tr>\n",
       "    <tr>\n",
       "      <th>2</th>\n",
       "      <td>41976</td>\n",
       "      <td>149469</td>\n",
       "      <td>3897</td>\n",
       "      <td>64.830137</td>\n",
       "      <td>M</td>\n",
       "      <td>EMERGENCY</td>\n",
       "      <td>Medicare</td>\n",
       "      <td>HISPANIC/LATINO - PUERTO RICAN</td>\n",
       "      <td>0</td>\n",
       "    </tr>\n",
       "    <tr>\n",
       "      <th>3</th>\n",
       "      <td>10093</td>\n",
       "      <td>165393</td>\n",
       "      <td>3891</td>\n",
       "      <td>87.438356</td>\n",
       "      <td>M</td>\n",
       "      <td>EMERGENCY</td>\n",
       "      <td>Medicare</td>\n",
       "      <td>WHITE</td>\n",
       "      <td>1</td>\n",
       "    </tr>\n",
       "    <tr>\n",
       "      <th>4</th>\n",
       "      <td>41976</td>\n",
       "      <td>176016</td>\n",
       "      <td>3893</td>\n",
       "      <td>65.076712</td>\n",
       "      <td>M</td>\n",
       "      <td>EMERGENCY</td>\n",
       "      <td>Medicare</td>\n",
       "      <td>HISPANIC/LATINO - PUERTO RICAN</td>\n",
       "      <td>0</td>\n",
       "    </tr>\n",
       "    <tr>\n",
       "      <th>...</th>\n",
       "      <td>...</td>\n",
       "      <td>...</td>\n",
       "      <td>...</td>\n",
       "      <td>...</td>\n",
       "      <td>...</td>\n",
       "      <td>...</td>\n",
       "      <td>...</td>\n",
       "      <td>...</td>\n",
       "      <td>...</td>\n",
       "    </tr>\n",
       "    <tr>\n",
       "      <th>1305</th>\n",
       "      <td>41976</td>\n",
       "      <td>125449</td>\n",
       "      <td>9604</td>\n",
       "      <td>63.906849</td>\n",
       "      <td>M</td>\n",
       "      <td>EMERGENCY</td>\n",
       "      <td>Medicare</td>\n",
       "      <td>HISPANIC/LATINO - PUERTO RICAN</td>\n",
       "      <td>0</td>\n",
       "    </tr>\n",
       "    <tr>\n",
       "      <th>1306</th>\n",
       "      <td>41976</td>\n",
       "      <td>173269</td>\n",
       "      <td>9671</td>\n",
       "      <td>65.468493</td>\n",
       "      <td>M</td>\n",
       "      <td>EMERGENCY</td>\n",
       "      <td>Medicare</td>\n",
       "      <td>HISPANIC/LATINO - PUERTO RICAN</td>\n",
       "      <td>0</td>\n",
       "    </tr>\n",
       "    <tr>\n",
       "      <th>1307</th>\n",
       "      <td>10088</td>\n",
       "      <td>149044</td>\n",
       "      <td>966</td>\n",
       "      <td>77.890411</td>\n",
       "      <td>M</td>\n",
       "      <td>EMERGENCY</td>\n",
       "      <td>Private</td>\n",
       "      <td>WHITE</td>\n",
       "      <td>0</td>\n",
       "    </tr>\n",
       "    <tr>\n",
       "      <th>1308</th>\n",
       "      <td>10106</td>\n",
       "      <td>133283</td>\n",
       "      <td>8841</td>\n",
       "      <td>63.786301</td>\n",
       "      <td>M</td>\n",
       "      <td>EMERGENCY</td>\n",
       "      <td>Private</td>\n",
       "      <td>WHITE</td>\n",
       "      <td>0</td>\n",
       "    </tr>\n",
       "    <tr>\n",
       "      <th>1309</th>\n",
       "      <td>10127</td>\n",
       "      <td>182839</td>\n",
       "      <td>3893</td>\n",
       "      <td>17.202740</td>\n",
       "      <td>F</td>\n",
       "      <td>EMERGENCY</td>\n",
       "      <td>Private</td>\n",
       "      <td>WHITE</td>\n",
       "      <td>0</td>\n",
       "    </tr>\n",
       "  </tbody>\n",
       "</table>\n",
       "<p>1310 rows × 9 columns</p>\n",
       "</div>"
      ],
      "text/plain": [
       "      subject_id  hadm_id  ...                       ethnicity  hospital_expire_flag\n",
       "0          41976   173269  ...  HISPANIC/LATINO - PUERTO RICAN                     0\n",
       "1          41976   172082  ...  HISPANIC/LATINO - PUERTO RICAN                     0\n",
       "2          41976   149469  ...  HISPANIC/LATINO - PUERTO RICAN                     0\n",
       "3          10093   165393  ...                           WHITE                     1\n",
       "4          41976   176016  ...  HISPANIC/LATINO - PUERTO RICAN                     0\n",
       "...          ...      ...  ...                             ...                   ...\n",
       "1305       41976   125449  ...  HISPANIC/LATINO - PUERTO RICAN                     0\n",
       "1306       41976   173269  ...  HISPANIC/LATINO - PUERTO RICAN                     0\n",
       "1307       10088   149044  ...                           WHITE                     0\n",
       "1308       10106   133283  ...                           WHITE                     0\n",
       "1309       10127   182839  ...                           WHITE                     0\n",
       "\n",
       "[1310 rows x 9 columns]"
      ]
     },
     "execution_count": 6,
     "metadata": {},
     "output_type": "execute_result"
    }
   ],
   "source": [
    "import pandas as pd\n",
    "df = pd.read_csv('dataset/mimic_keyspace_data.csv')\n",
    "\n",
    "df"
   ]
  },
  {
   "cell_type": "markdown",
   "id": "71a452e3-0b44-470a-800e-7e3b10dab9c6",
   "metadata": {
    "id": "fZlhfSfn56-S"
   },
   "source": [
    "### Create an Amazon Keyspace\n",
    "- Sign into AWS via https://nu-sso.awsapps.com/start/.\n",
    "- From Services, enter Amazon Keyspaces.\n",
    "- Go to CQL editor (on the left menu).  We will interact with the Keyspace through CQL editor throughout this lab."
   ]
  },
  {
   "cell_type": "markdown",
   "id": "85c76fdc-c9bc-45c0-bff7-65fa88732cc4",
   "metadata": {},
   "source": [
    "*Note*: There are multiple ways in AWS to create a keyspace and table.  We will create what we require with Cassandra queries (CQL)."
   ]
  },
  {
   "cell_type": "markdown",
   "id": "fed06709-31bd-4006-9939-20df08a96894",
   "metadata": {},
   "source": [
    "- Create a keyspace with the name `[Firstname][Lastname]_de300lab4`, with the sample query below:\n",
    "\n",
    "```\n",
    "CREATE KEYSPACE IF NOT EXISTS \"KeySpaceName\"\n",
    "   WITH REPLICATION = {'class': 'SingleRegionStrategy'};\n",
    "```\n",
    "\n",
    "- Verify that your keyspace is created properly by running:\n",
    "\n",
    "```\n",
    "SELECT * from system_schema.keyspaces ;\n",
    "```"
   ]
  },
  {
   "cell_type": "markdown",
   "id": "424b3318-7192-4c5b-91b8-1d6a0399e987",
   "metadata": {},
   "source": [
    "### Specify the keyspace \n",
    "- Specify the keyspace you created with:\n",
    "\n",
    "```\n",
    "USE [Firstname][Lastname]_de300lab4 ;\n",
    "```\n",
    "\n",
    "### Create a table\n",
    "- The following query creates a table with only patient information:\n",
    "\n",
    "```\n",
    "CREATE TABLE IF NOT EXISTS [Firstname][Lastname]_de300lab4.patient_tbl (\n",
    "   subject_id int,\n",
    "   gender text,\n",
    "   age float,\n",
    "   ethnicity text,\n",
    "   PRIMARY KEY (subject_id)\n",
    ");\n",
    "```\n",
    "\n",
    "Note that by setting the primary key as `subject_id` automatically assigns itself as the **partition key**.\n",
    "\n",
    "- Verify the table is created by running:\n",
    "\n",
    "```\n",
    "SELECT * from system_schema.tables WHERE keyspace_name=[Firstname][Lastname]_de300lab4 ;\n",
    "```\n",
    "\n",
    "- Verify the table structure by running\n",
    "\n",
    "```\n",
    "SELECT * FROM system_schema.columns WHERE keyspace_name=[Firstname][Lastname]_de300lab4 AND table_name = 'patient_tbl' ;\n",
    "```"
   ]
  },
  {
   "cell_type": "markdown",
   "id": "ce68caf3-3d46-49b7-b46a-95596eeeec29",
   "metadata": {},
   "source": [
    "### Insert an entry\n",
    "- The following query inserts one entry of the data into the `patient_tbl` table:\n",
    "\n",
    "```\n",
    "INSERT INTO [Firstname][Lastname]_de300lab4.patient_tbl (subject_id, gender, age, ethnicity)\n",
    "VALUES ( 41976, 'M', 65.80, 'HISPANIC/LATINO - PUERTO RICAN' );\n",
    "```\n",
    "\n",
    "- Verify (Read) the data insertion by the following command:\n",
    "\n",
    "```\n",
    "SELECT * FROM [Firstname][Lastname]_de300lab4.patient_tbl ;\n",
    "```"
   ]
  },
  {
   "cell_type": "markdown",
   "id": "1604f57b-e757-414e-8fb2-8b39a9bfb873",
   "metadata": {},
   "source": [
    "## Lab Tasks\n",
    "\n",
    "Recall that deciding what primary key to use is most important in a wide-column style database.\n",
    "\n",
    "The primary key consists of \n",
    "- a **partition key** (1+ columns): that should evenly distribute your data\n",
    "- **clustering columns** (0+ columns): that joint with the partition key uniquely specifies one data row.\n",
    "\n",
    "You may refer to the CQL documentation for specifying a table creation (https://cassandra.apache.org/doc/latest/cassandra/reference/cql-commands/create-table.html)"
   ]
  },
  {
   "cell_type": "markdown",
   "id": "a7a2ab81-1620-4de2-9e61-2db45ddf055c",
   "metadata": {},
   "source": [
    "Refer to the dataset above (use **all** the columns), create and design a table for each of the following questions.  \n",
    "Give a brief explanation of why you design the table in such way. \n",
    "\n",
    "**Submission guidance:**\n",
    "Paste the `CREATE` query below each question and give the explanation accordingly.  \n",
    "Test your query on Amazon Keyspace and make sure you can 1) create the table, and 2) insert one or more sample rows for verification."
   ]
  },
  {
   "cell_type": "markdown",
   "id": "edd65f53-4d1a-4caa-b17f-8b7e2dee32e0",
   "metadata": {},
   "source": [
    "1. What is the top procedure performed for the female patients?"
   ]
  },
  {
   "cell_type": "markdown",
   "id": "1acc8f9d-f55e-40aa-9353-3f79a1b37470",
   "metadata": {},
   "source": []
  },
  {
   "cell_type": "markdown",
   "id": "d5acc83e-83b8-4234-b672-f10b55fda286",
   "metadata": {},
   "source": [
    "2. What is the top procedure performed for the medicare and medicaid insurance holders?"
   ]
  },
  {
   "cell_type": "markdown",
   "id": "b39ebcc4-bca6-4499-a7f3-f4f93630410f",
   "metadata": {},
   "source": []
  },
  {
   "cell_type": "markdown",
   "id": "a1f77016-b435-4299-bff9-e3773cbc43ba",
   "metadata": {},
   "source": [
    "3. What proportion of the patients are above 55 with the procedure icd9_code between 3890 and 3899?"
   ]
  },
  {
   "cell_type": "markdown",
   "id": "84acc651-b2c5-4aae-99e4-90af14a011e4",
   "metadata": {},
   "source": []
  },
  {
   "cell_type": "markdown",
   "id": "b6c75b89-4bcf-406d-bf26-b617d1f5817c",
   "metadata": {
    "id": "fZlhfSfn56-S"
   },
   "source": [
    "**Submission:**\n",
    "You will submit the `.ipynb` notebook file and any supporting information you see fit."
   ]
  },
  {
   "cell_type": "markdown",
   "id": "fpCT90xsg7-l",
   "metadata": {
    "id": "fpCT90xsg7-l"
   },
   "source": [
    "# Generative AI disclosure\n",
    "In this course, you are generally allowed to use Generative Artificial Intelligence (GAI). Any use of GAI should be accompanied by a disclosure at the end of an assignment explaining (1) what you used GAI for; (2) the specific tool(s) you used; and (3) what prompts you used to get the results.\n",
    "\n",
    "**Include** any disclosure below."
   ]
  }
 ],
 "metadata": {
  "colab": {
   "include_colab_link": true,
   "provenance": []
  },
  "kernelspec": {
   "display_name": "Python 3 (ipykernel)",
   "language": "python",
   "name": "python3"
  },
  "language_info": {
   "codemirror_mode": {
    "name": "ipython",
    "version": 3
   },
   "file_extension": ".py",
   "mimetype": "text/x-python",
   "name": "python",
   "nbconvert_exporter": "python",
   "pygments_lexer": "ipython3",
   "version": "3.11.5"
  },
  "widgets": {
   "application/vnd.jupyter.widget-state+json": {
    "state": {},
    "version_major": 2,
    "version_minor": 0
   }
  }
 },
 "nbformat": 4,
 "nbformat_minor": 5
}
