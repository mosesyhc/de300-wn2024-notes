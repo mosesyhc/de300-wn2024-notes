{
 "cells": [
  {
   "cell_type": "markdown",
   "id": "7c20d3a8-a3c7-4607-b109-c9f3f31d1896",
   "metadata": {},
   "source": [
    "(ex-electronic-medical-record)=\n",
    "# (EX) Electronic medical record\n",
    "This example utilizes the [MIMIC III demo](https://physionet.org/content/mimiciii-demo/1.4/) dataset in illustrating the use of database using DuckDB.\n",
    "\n",
    "*Quick notes about DuckDB:*  \n",
    "\n",
    "- DuckDB is a relational database for analytics processing (i.e., OLAP)\n",
    "- DuckDB is columnar-oriented\n",
    "- DuckDB scales reasonably for *relatively* large datasets and works well for local development"
   ]
  },
  {
   "cell_type": "code",
   "execution_count": 57,
   "id": "34d2d203-6568-4c5e-8215-756f8946507a",
   "metadata": {},
   "outputs": [],
   "source": [
    "import duckdb"
   ]
  },
  {
   "cell_type": "code",
   "execution_count": 63,
   "id": "122c09a4-4197-4582-86e7-31556d0aae68",
   "metadata": {},
   "outputs": [],
   "source": [
    "# establish connection\n",
    "conn = duckdb.connect('../lab/dataset/mimic.db', read_only=True)\n",
    "\n",
    "conn.sql('SHOW TABLES;')"
   ]
  },
  {
   "cell_type": "code",
   "execution_count": 59,
   "id": "f472eba1-ec9a-4ef0-a3f9-35779453c25a",
   "metadata": {},
   "outputs": [
    {
     "data": {
      "text/plain": [
       "┌─────────────┬───────────┐\n",
       "│ column_name │ data_type │\n",
       "│   varchar   │  varchar  │\n",
       "├─────────────┼───────────┤\n",
       "│ row_id      │ INTEGER   │\n",
       "│ icd9_code   │ INTEGER   │\n",
       "│ short_title │ VARCHAR   │\n",
       "│ long_title  │ VARCHAR   │\n",
       "└─────────────┴───────────┘"
      ]
     },
     "execution_count": 59,
     "metadata": {},
     "output_type": "execute_result"
    }
   ],
   "source": [
    "# metadata for add\n",
    "conn.sql(\n",
    "    \"\"\"\n",
    "    SELECT column_name, data_type FROM information_schema.columns \n",
    "    WHERE table_name = 'ICDPROCS';\n",
    "    \"\"\"\n",
    ")"
   ]
  },
  {
   "cell_type": "code",
   "execution_count": 55,
   "id": "dccd4798-a5fa-438f-8040-bd01b729c97e",
   "metadata": {},
   "outputs": [
    {
     "data": {
      "text/plain": [
       "┌────────┬────────────┬─────────┬─────────────────────┬───┬─────────────────────┬─────────────────────┬─────────────┐\n",
       "│ row_id │ subject_id │ gender  │         dob         │ … │      dod_hosp       │       dod_ssn       │ expire_flag │\n",
       "│ int32  │   int32    │ varchar │       varchar       │   │       varchar       │       varchar       │    int32    │\n",
       "├────────┼────────────┼─────────┼─────────────────────┼───┼─────────────────────┼─────────────────────┼─────────────┤\n",
       "│   9467 │      10006 │ F       │ 2094-03-05 00:00:00 │ … │ 2165-08-12 00:00:00 │ 2165-08-12 00:00:00 │           1 │\n",
       "│   9472 │      10011 │ F       │ 2090-06-05 00:00:00 │ … │ 2126-08-28 00:00:00 │ NULL                │           1 │\n",
       "│   9474 │      10013 │ F       │ 2038-09-03 00:00:00 │ … │ 2125-10-07 00:00:00 │ 2125-10-07 00:00:00 │           1 │\n",
       "│   9478 │      10017 │ F       │ 2075-09-21 00:00:00 │ … │ NULL                │ 2152-09-12 00:00:00 │           1 │\n",
       "│   9479 │      10019 │ M       │ 2114-06-20 00:00:00 │ … │ 2163-05-15 00:00:00 │ 2163-05-15 00:00:00 │           1 │\n",
       "│   9486 │      10026 │ F       │ 1895-05-17 00:00:00 │ … │ NULL                │ 2195-11-24 00:00:00 │           1 │\n",
       "│   9487 │      10027 │ F       │ 2108-01-15 00:00:00 │ … │ NULL                │ 2190-09-14 00:00:00 │           1 │\n",
       "│   9489 │      10029 │ M       │ 2061-04-10 00:00:00 │ … │ NULL                │ 2140-09-21 00:00:00 │           1 │\n",
       "│   9491 │      10032 │ M       │ 2050-03-29 00:00:00 │ … │ 2138-05-21 00:00:00 │ 2138-05-21 00:00:00 │           1 │\n",
       "│   9492 │      10033 │ F       │ 2051-04-21 00:00:00 │ … │ NULL                │ 2133-09-09 00:00:00 │           1 │\n",
       "│     ·  │        ·   │ ·       │          ·          │ · │  ·                  │          ·          │           · │\n",
       "│     ·  │        ·   │ ·       │          ·          │ · │  ·                  │          ·          │           · │\n",
       "│     ·  │        ·   │ ·       │          ·          │ · │  ·                  │          ·          │           · │\n",
       "│  31784 │      43870 │ F       │ 2097-05-16 00:00:00 │ … │ 2186-02-12 00:00:00 │ 2186-02-12 00:00:00 │           1 │\n",
       "│  31789 │      43879 │ F       │ 2051-07-25 00:00:00 │ … │ 2107-07-13 00:00:00 │ NULL                │           1 │\n",
       "│  31790 │      43881 │ M       │ 2051-03-24 00:00:00 │ … │ 2105-02-16 00:00:00 │ 2105-02-16 00:00:00 │           1 │\n",
       "│  31794 │      43909 │ F       │ 2073-11-22 00:00:00 │ … │ 2152-10-09 00:00:00 │ 2152-10-09 00:00:00 │           1 │\n",
       "│  31800 │      43927 │ F       │ 2104-02-12 00:00:00 │ … │ 2176-09-09 00:00:00 │ 2176-09-09 00:00:00 │           1 │\n",
       "│  31838 │      44083 │ M       │ 2057-11-15 00:00:00 │ … │ 2114-02-20 00:00:00 │ 2114-02-20 00:00:00 │           1 │\n",
       "│  31853 │      44154 │ M       │ 1878-05-14 00:00:00 │ … │ 2178-05-15 00:00:00 │ 2178-05-15 00:00:00 │           1 │\n",
       "│  31867 │      44212 │ F       │ 2078-06-16 00:00:00 │ … │ NULL                │ 2124-01-29 00:00:00 │           1 │\n",
       "│  31870 │      44222 │ M       │ 2107-06-27 00:00:00 │ … │ 2182-08-03 00:00:00 │ NULL                │           1 │\n",
       "│  31872 │      44228 │ F       │ 2112-10-22 00:00:00 │ … │ 2171-04-14 00:00:00 │ NULL                │           1 │\n",
       "├────────┴────────────┴─────────┴─────────────────────┴───┴─────────────────────┴─────────────────────┴─────────────┤\n",
       "│ 100 rows (20 shown)                                                                           8 columns (7 shown) │\n",
       "└───────────────────────────────────────────────────────────────────────────────────────────────────────────────────┘"
      ]
     },
     "execution_count": 55,
     "metadata": {},
     "output_type": "execute_result"
    }
   ],
   "source": [
    "# admission table at a glance\n",
    "conn.sql(\n",
    "    \"\"\"\n",
    "    \n",
    "    \"\"\"\n",
    ")"
   ]
  },
  {
   "cell_type": "markdown",
   "id": "2f455cb8-9655-474d-a40b-994c8a0071b1",
   "metadata": {},
   "source": [
    "## Simple queries"
   ]
  },
  {
   "cell_type": "code",
   "execution_count": 47,
   "id": "e1621349-194a-4dc9-8c42-c1cfdfa946dc",
   "metadata": {},
   "outputs": [
    {
     "data": {
      "text/plain": [
       "┌──────────────┐\n",
       "│ count_star() │\n",
       "│    int64     │\n",
       "├──────────────┤\n",
       "│          100 │\n",
       "└──────────────┘"
      ]
     },
     "execution_count": 47,
     "metadata": {},
     "output_type": "execute_result"
    }
   ],
   "source": [
    "# number of patients\n",
    "conn.sql(\n",
    "    \"\"\"\n",
    "\n",
    "    \"\"\"\n",
    ")"
   ]
  },
  {
   "cell_type": "code",
   "execution_count": null,
   "id": "cd8bcfd4-b221-4e59-8435-e94ba9e52657",
   "metadata": {},
   "outputs": [],
   "source": [
    "# number of patients by gender\n",
    "conn.sql(\n",
    "    \"\"\"\n",
    "\n",
    "    \"\"\"\n",
    ")"
   ]
  },
  {
   "cell_type": "code",
   "execution_count": null,
   "id": "f0f4db13-00b8-4447-9b06-e12b927b4883",
   "metadata": {},
   "outputs": [],
   "source": [
    "# take a glance at the ICUSTAY table\n",
    "conn.sql(\n",
    "    \"\"\"\n",
    "\n",
    "    \"\"\"\n",
    ")"
   ]
  },
  {
   "cell_type": "markdown",
   "id": "36a89562-e90a-457e-9c3a-fa3db6a2910f",
   "metadata": {},
   "source": [
    "## Derivative queries"
   ]
  },
  {
   "cell_type": "code",
   "execution_count": null,
   "id": "3b7fc524-0863-43bd-9edc-933d07e3377d",
   "metadata": {},
   "outputs": [],
   "source": [
    "# calculate the age of each patient and include in the table above\n",
    "conn.sql(\n",
    "    \"\"\"\n",
    "\n",
    "    \"\"\"\n",
    ")"
   ]
  },
  {
   "cell_type": "code",
   "execution_count": null,
   "id": "608ffef2-b068-44c3-bbdd-b33fcc40bbdb",
   "metadata": {},
   "outputs": [],
   "source": [
    "# calculate the duration of admission before each patient is admitted to the ICU\n",
    "conn.sql(\n",
    "    \"\"\"\n",
    "\n",
    "    \"\"\"\n",
    ")"
   ]
  },
  {
   "cell_type": "code",
   "execution_count": null,
   "id": "146c9719-b566-42a2-b79d-65c0d183b0ce",
   "metadata": {},
   "outputs": [],
   "source": [
    "# identify if a patient passes away when they are in the ICU\n",
    "conn.sql(\n",
    "    \"\"\"\n",
    "\n",
    "    \"\"\"\n",
    ")"
   ]
  },
  {
   "cell_type": "markdown",
   "id": "00bf511f-7958-411e-b138-a4ba6f9b9e2b",
   "metadata": {},
   "source": [
    "## Additional reference queries"
   ]
  },
  {
   "cell_type": "code",
   "execution_count": 56,
   "id": "713f3530-353d-4102-b69e-85147495c630",
   "metadata": {},
   "outputs": [],
   "source": [
    "# \n",
    "conn.sql(\n",
    "    \"\"\"\n",
    "    SELECT p.subject_id, p.dob, a.hadm_id,\n",
    "        a.admittime, p.expire_flag\n",
    "    FROM admissions a\n",
    "    INNER JOIN patients p\n",
    "    ON p.subject_id = a.subject_id\n",
    "    ORDER BY admittime;\n",
    "    \"\"\"\n",
    ")"
   ]
  },
  {
   "cell_type": "code",
   "execution_count": 51,
   "id": "e956e6f2-2b28-4197-935a-38a750a45797",
   "metadata": {},
   "outputs": [
    {
     "data": {
      "text/plain": [
       "┌────────────┬─────────────────────┬─────────┬─────────────────────┬─────────────┬─────────────────────┐\n",
       "│ subject_id │         dob         │ hadm_id │      admittime      │ expire_flag │   first_admittime   │\n",
       "│   int32    │       varchar       │  int32  │       varchar       │    int32    │       varchar       │\n",
       "├────────────┼─────────────────────┼─────────┼─────────────────────┼─────────────┼─────────────────────┤\n",
       "│      10056 │ 2046-02-27 00:00:00 │  100375 │ 2129-05-02 00:12:00 │           1 │ 2129-05-02 00:12:00 │\n",
       "│      42430 │ 2061-12-10 00:00:00 │  100969 │ 2142-11-26 21:20:00 │           1 │ 2142-11-26 21:20:00 │\n",
       "│      41914 │ 2090-11-16 00:00:00 │  101361 │ 2145-12-01 18:13:00 │           1 │ 2145-12-01 18:13:00 │\n",
       "│      42135 │ 2083-09-20 00:00:00 │  102203 │ 2127-07-23 15:21:00 │           1 │ 2127-07-23 15:21:00 │\n",
       "│      44228 │ 2112-10-22 00:00:00 │  103379 │ 2170-12-15 03:14:00 │           1 │ 2170-12-15 03:14:00 │\n",
       "│      10026 │ 1895-05-17 00:00:00 │  103770 │ 2195-05-17 07:39:00 │           1 │ 2195-05-17 07:39:00 │\n",
       "│      40612 │ 2073-08-13 00:00:00 │  104697 │ 2159-11-17 03:28:00 │           1 │ 2159-11-17 03:28:00 │\n",
       "│      10117 │ 2072-05-05 00:00:00 │  105150 │ 2138-11-09 18:08:00 │           1 │ 2138-06-05 17:23:00 │\n",
       "│      10011 │ 2090-06-05 00:00:00 │  105331 │ 2126-08-14 22:32:00 │           1 │ 2126-08-14 22:32:00 │\n",
       "│      41983 │ 1851-09-12 00:00:00 │  107689 │ 2151-09-12 17:04:00 │           1 │ 2151-09-12 17:04:00 │\n",
       "│        ·   │          ·          │     ·   │          ·          │           · │          ·          │\n",
       "│        ·   │          ·          │     ·   │          ·          │           · │          ·          │\n",
       "│        ·   │          ·          │     ·   │          ·          │           · │          ·          │\n",
       "│      10089 │ 2046-04-18 00:00:00 │  190301 │ 2132-08-05 18:48:00 │           1 │ 2132-08-05 18:48:00 │\n",
       "│      44222 │ 2107-06-27 00:00:00 │  192189 │ 2180-07-19 06:55:00 │           1 │ 2180-07-19 06:55:00 │\n",
       "│      10120 │ 2088-05-05 00:00:00 │  193924 │ 2115-05-12 14:52:00 │           1 │ 2115-05-12 14:52:00 │\n",
       "│      42281 │ 2051-03-23 00:00:00 │  195911 │ 2119-10-17 05:58:00 │           1 │ 2119-10-17 05:58:00 │\n",
       "│      10132 │ 2058-04-23 00:00:00 │  197611 │ 2123-08-23 20:00:00 │           1 │ 2123-08-23 20:00:00 │\n",
       "│      44083 │ 2057-11-15 00:00:00 │  198330 │ 2112-05-28 15:45:00 │           1 │ 2112-05-04 08:00:00 │\n",
       "│      40177 │ 2082-06-27 00:00:00 │  198480 │ 2169-05-06 23:16:00 │           1 │ 2169-05-06 23:16:00 │\n",
       "│      10076 │ 2038-05-10 00:00:00 │  198503 │ 2107-03-21 21:16:00 │           1 │ 2107-03-21 21:16:00 │\n",
       "│      10017 │ 2075-09-21 00:00:00 │  199207 │ 2149-05-26 17:19:00 │           1 │ 2149-05-26 17:19:00 │\n",
       "│      10027 │ 2108-01-15 00:00:00 │  199395 │ 2190-07-13 07:15:00 │           1 │ 2190-07-13 07:15:00 │\n",
       "├────────────┴─────────────────────┴─────────┴─────────────────────┴─────────────┴─────────────────────┤\n",
       "│ 129 rows (20 shown)                                                                        6 columns │\n",
       "└──────────────────────────────────────────────────────────────────────────────────────────────────────┘"
      ]
     },
     "execution_count": 51,
     "metadata": {},
     "output_type": "execute_result"
    }
   ],
   "source": [
    " # \n",
    "conn.sql(\n",
    "    \"\"\"\n",
    "    SELECT p.subject_id, p.dob, a.hadm_id,\n",
    "        a.admittime, p.expire_flag,\n",
    "        MIN (a.admittime) OVER (PARTITION BY p.subject_id) AS first_admittime\n",
    "    FROM admissions a\n",
    "    INNER JOIN patients p\n",
    "    ON p.subject_id = a.subject_id\n",
    "    ORDER BY a.hadm_id, p.subject_id;\n",
    "    \"\"\"\n",
    ")"
   ]
  }
 ],
 "metadata": {
  "kernelspec": {
   "display_name": "Python 3 (ipykernel)",
   "language": "python",
   "name": "python3"
  },
  "language_info": {
   "codemirror_mode": {
    "name": "ipython",
    "version": 3
   },
   "file_extension": ".py",
   "mimetype": "text/x-python",
   "name": "python",
   "nbconvert_exporter": "python",
   "pygments_lexer": "ipython3",
   "version": "3.11.7"
  },
  "widgets": {
   "application/vnd.jupyter.widget-state+json": {
    "state": {},
    "version_major": 2,
    "version_minor": 0
   }
  }
 },
 "nbformat": 4,
 "nbformat_minor": 5
}
