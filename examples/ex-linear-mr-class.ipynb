{
  "nbformat": 4,
  "nbformat_minor": 0,
  "metadata": {
    "colab": {
      "private_outputs": true,
      "provenance": [],
      "authorship_tag": "ABX9TyMNPgE08Zu43Kqs+qd/9LsH",
      "include_colab_link": true
    },
    "kernelspec": {
      "name": "python3",
      "display_name": "Python 3"
    },
    "language_info": {
      "name": "python"
    }
  },
  "cells": [
    {
      "cell_type": "markdown",
      "metadata": {
        "id": "view-in-github",
        "colab_type": "text"
      },
      "source": [
        "<a href=\"https://colab.research.google.com/github/mosesyhc/de300-wn2024-notes/blob/main/examples/ex-linear-mr-class.ipynb\" target=\"_parent\"><img src=\"https://colab.research.google.com/assets/colab-badge.svg\" alt=\"Open In Colab\"/></a>"
      ]
    },
    {
      "cell_type": "markdown",
      "source": [
        "Mounting Google drive for a permanent venv"
      ],
      "metadata": {
        "id": "jWYtZF8BTHWL"
      }
    },
    {
      "cell_type": "code",
      "source": [
        "from google.colab import drive\n",
        "drive.mount('/content/drive')"
      ],
      "metadata": {
        "id": "Vh-hzOukTYdR"
      },
      "execution_count": null,
      "outputs": []
    },
    {
      "cell_type": "markdown",
      "source": [
        "Retrieving Java, Spark, and `findspark` in Python"
      ],
      "metadata": {
        "id": "Js-a9SWefjV2"
      }
    },
    {
      "cell_type": "code",
      "execution_count": null,
      "metadata": {
        "id": "E_3J9C-geuh7"
      },
      "outputs": [],
      "source": [
        "!wget -q http://archive.apache.org/dist/spark/spark-3.1.1/spark-3.1.1-bin-hadoop3.2.tgz\n",
        "!tar xf spark-3.1.1-bin-hadoop3.2.tgz"
      ]
    },
    {
      "cell_type": "code",
      "source": [
        "!pip install -q findspark\n",
        "!pip install -q seaborn"
      ],
      "metadata": {
        "id": "LKm1xlC-XVDb"
      },
      "execution_count": null,
      "outputs": []
    },
    {
      "cell_type": "code",
      "source": [
        "# spark setup\n",
        "import os\n",
        "os.environ[\"JAVA_HOME\"] = \"/usr/lib/jvm/java-11-openjdk-amd64\"\n",
        "os.environ[\"SPARK_HOME\"] = \"/content/spark-3.1.1-bin-hadoop3.2\""
      ],
      "metadata": {
        "id": "wMoMrQ-je41K"
      },
      "execution_count": null,
      "outputs": []
    },
    {
      "cell_type": "code",
      "source": [
        "# findspark helps locate the environment variables\n",
        "import findspark\n",
        "findspark.init()"
      ],
      "metadata": {
        "id": "DC97uPhMe5cn"
      },
      "execution_count": null,
      "outputs": []
    },
    {
      "cell_type": "markdown",
      "source": [
        "# `diamonds` Dataset"
      ],
      "metadata": {
        "id": "S7yr9_JzZwQ6"
      }
    },
    {
      "cell_type": "code",
      "source": [
        "import seaborn as sns\n",
        "diam = sns.load_dataset('diamonds', cache=True, data_home='dataset/')"
      ],
      "metadata": {
        "id": "S51T-4qYZ0LU"
      },
      "execution_count": null,
      "outputs": []
    },
    {
      "cell_type": "markdown",
      "source": [
        "# Linear regression example"
      ],
      "metadata": {
        "id": "9WOEde4yY8_u"
      }
    },
    {
      "cell_type": "code",
      "source": [
        "from pyspark.sql import SparkSession\n",
        "\n",
        "spark = SparkSession.builder.getOrCreate()\n",
        "sc = spark.sparkContext"
      ],
      "metadata": {
        "id": "rWgYKCtGY8vy"
      },
      "execution_count": null,
      "outputs": []
    },
    {
      "cell_type": "code",
      "source": [
        "diamonds = (\n",
        "    spark.read.format('csv')\n",
        "    .options(header='true', inferSchema='true')\n",
        "    .load('dataset/diamonds.csv')\n",
        "    .cache()\n",
        ")"
      ],
      "metadata": {
        "id": "PC9bF4RLQvsn"
      },
      "execution_count": null,
      "outputs": []
    },
    {
      "cell_type": "code",
      "source": [
        "display(diamonds)"
      ],
      "metadata": {
        "id": "cgAPgoziafZm"
      },
      "execution_count": null,
      "outputs": []
    },
    {
      "cell_type": "code",
      "source": [
        "df = (\n",
        "    diamonds\n",
        "    .where(diamonds['price'] > 1000)\n",
        "    .select(['cut', 'color', 'carat', 'clarity', 'price'])\n",
        ")"
      ],
      "metadata": {
        "id": "597eG_ambPrY"
      },
      "execution_count": null,
      "outputs": []
    },
    {
      "cell_type": "code",
      "source": [
        "df.show(5)"
      ],
      "metadata": {
        "id": "vRPlZ_crbajG"
      },
      "execution_count": null,
      "outputs": []
    },
    {
      "cell_type": "markdown",
      "source": [
        "## Estimation"
      ],
      "metadata": {
        "id": "VBynywDpfOUq"
      }
    },
    {
      "cell_type": "code",
      "source": [
        "# specifying our predictors and response\n",
        "predictors = ['cut', 'color', 'carat', 'clarity']\n",
        "categorical = set(['cut', 'color', 'clarity'])\n",
        "response = 'price'"
      ],
      "metadata": {
        "id": "3GnH6WN_bc_h"
      },
      "execution_count": null,
      "outputs": []
    },
    {
      "cell_type": "code",
      "source": [
        "# map functions\n",
        "\n",
        "def xty_map(row):\n",
        "  row = row.asDict()\n",
        "  for i in predictors:\n",
        "  # If the predictor is numerical, return the name as key and value\n",
        "  # If the predictor is categorical, return the [name]_[value] as key and 1 as value\n",
        "    pass\n",
        "    yield ( )\n",
        "\n",
        "def xtx_map(row):\n",
        "  row = row.asDict()\n",
        "\n",
        "  for i in predictors:\n",
        "    pass\n",
        "    for j in predictors:\n",
        "      pass\n",
        "      yield ( )"
      ],
      "metadata": {
        "id": "QX2v3ojhb5o4"
      },
      "execution_count": null,
      "outputs": []
    },
    {
      "cell_type": "markdown",
      "source": [
        "### Verifying results"
      ],
      "metadata": {
        "id": "X6GG0dTpdwJO"
      }
    },
    {
      "cell_type": "code",
      "source": [
        "row = df.take(1)[0]\n",
        "row"
      ],
      "metadata": {
        "id": "sSMG56_bc_VU"
      },
      "execution_count": null,
      "outputs": []
    },
    {
      "cell_type": "code",
      "source": [
        "[a for a in xty_map(row)]"
      ],
      "metadata": {
        "id": "ii34Du3qdB6R"
      },
      "execution_count": null,
      "outputs": []
    },
    {
      "cell_type": "code",
      "source": [
        "[a for a in xtx_map(row)]"
      ],
      "metadata": {
        "id": "Qama9rxwdIlx"
      },
      "execution_count": null,
      "outputs": []
    },
    {
      "cell_type": "markdown",
      "source": [
        "### Applying map and reduce"
      ],
      "metadata": {
        "id": "ZbQmwv6Yd23z"
      }
    },
    {
      "cell_type": "code",
      "source": [
        "xtx_data = (df.rdd\n",
        "\n",
        "\n",
        "            .collect())"
      ],
      "metadata": {
        "id": "krZsPGzmd5ft"
      },
      "execution_count": null,
      "outputs": []
    },
    {
      "cell_type": "code",
      "source": [
        "xty_data = (df.rdd\n",
        "\n",
        "\n",
        "            .collect())"
      ],
      "metadata": {
        "id": "zZ8WJTAzeDmC"
      },
      "execution_count": null,
      "outputs": []
    },
    {
      "cell_type": "code",
      "source": [
        "xty_data"
      ],
      "metadata": {
        "id": "QFhIOPx0eGtX"
      },
      "execution_count": null,
      "outputs": []
    },
    {
      "cell_type": "code",
      "source": [
        "# collect the indices corresponding to X\n",
        "index = dict(zip([r[0] for r in xty_data], range(len(xty_data))))\n",
        "p = len(index)\n",
        "\n",
        "index"
      ],
      "metadata": {
        "id": "C0mfE80NeKNw"
      },
      "execution_count": null,
      "outputs": []
    },
    {
      "cell_type": "code",
      "source": [
        "# arrange the individual elements back into matrices\n",
        "import numpy as np\n",
        "\n",
        "XTY = np.zeros((p, 1))\n",
        "for (k, v) in xty_data:\n",
        "  XTY[index[k]] = v\n",
        "\n",
        "XTX = np.zeros((p,p))\n",
        "for ((k1,k2),v) in xtx_data:\n",
        "  XTX[index[k1], index[k2]] = v"
      ],
      "metadata": {
        "id": "E23hUycDeeeK"
      },
      "execution_count": null,
      "outputs": []
    },
    {
      "cell_type": "code",
      "source": [
        "# solve for coefficients\n",
        "beta ="
      ],
      "metadata": {
        "id": "zNr7OP8qe8ds"
      },
      "execution_count": null,
      "outputs": []
    },
    {
      "cell_type": "code",
      "source": [
        "beta"
      ],
      "metadata": {
        "id": "VLTPNXYsfifV"
      },
      "execution_count": null,
      "outputs": []
    },
    {
      "cell_type": "markdown",
      "source": [
        "## Prediction"
      ],
      "metadata": {
        "id": "taUBvU3LfJbc"
      }
    },
    {
      "cell_type": "code",
      "source": [
        "def predict(row):\n",
        "  row = row.asDict()\n",
        "  pred = 0.0\n",
        "  for i in predictors:\n",
        "    pass\n",
        "  return float(pred)"
      ],
      "metadata": {
        "id": "NC1Nlvl8fH1_"
      },
      "execution_count": null,
      "outputs": []
    },
    {
      "cell_type": "code",
      "source": [
        "rmse = np.sqrt(df.rdd\n",
        "\n",
        "\n",
        "\n",
        ")"
      ],
      "metadata": {
        "id": "5jj-qN-1f4TR"
      },
      "execution_count": null,
      "outputs": []
    },
    {
      "cell_type": "code",
      "source": [
        "rmse"
      ],
      "metadata": {
        "id": "KZE7ADEqf4Os"
      },
      "execution_count": null,
      "outputs": []
    },
    {
      "cell_type": "markdown",
      "source": [
        "## Storing prediction with user-defined function"
      ],
      "metadata": {
        "id": "m2lW6KWmhOEZ"
      }
    },
    {
      "cell_type": "code",
      "source": [
        "from pyspark.sql.functions import udf, struct\n",
        "from pyspark.sql.types import FloatType\n",
        "\n",
        "# A UDF must have a defined return type\n",
        "predict_udf = udf(predict, FloatType())\n",
        "\n",
        "# stores predictions in pred\n",
        "df = df.withColumn(\"pred\", predict_udf(struct(predictors)))"
      ],
      "metadata": {
        "id": "sZlkU4qIhNMu"
      },
      "execution_count": null,
      "outputs": []
    },
    {
      "cell_type": "code",
      "source": [
        "# stores residuals in resid\n",
        "df = df.withColumn(\"resid\", df['pred'] - df['price'])"
      ],
      "metadata": {
        "id": "ICcyIhvgheE5"
      },
      "execution_count": null,
      "outputs": []
    },
    {
      "cell_type": "code",
      "source": [
        "sns.histplot(df.sample(False, 0.1).select('resid').toPandas())"
      ],
      "metadata": {
        "id": "MTBc35AbhmNx"
      },
      "execution_count": null,
      "outputs": []
    },
    {
      "cell_type": "code",
      "source": [],
      "metadata": {
        "id": "fPDc7Wk1hoAT"
      },
      "execution_count": null,
      "outputs": []
    }
  ]
}