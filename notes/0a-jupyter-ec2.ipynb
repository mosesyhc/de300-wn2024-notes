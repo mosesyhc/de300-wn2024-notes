{
 "cells": [
  {
   "attachments": {},
   "cell_type": "markdown",
   "id": "4c6bd1c0-c477-47ab-ba34-94a533bbc576",
   "metadata": {},
   "source": [
    "# Setting up EC2 instance for jupyter notebook\n",
    "\n",
    "1. Access AWS\n",
    "   - Always access AWS by using the Northwestern AWS portal and your NetID: https://nu-sso.awsapps.com/start/\n",
    "   - You should have access through the `mse-tl-dataeng300-EMR` user account.\n",
    "   - If you do not, reach out to the instructor.\n",
    "   - (Preferred) Check that you are in the `N. Virginia` region (right top corner).v>"
   ]
  },
  {
   "cell_type": "markdown",
   "id": "829b90cf-877e-46f8-8193-7d7ceaa425b6",
   "metadata": {},
   "source": [
    "```{image} ../img/ec2/aws-start.png\n",
    ":alt: aws-start\n",
    ":width: 500px\n",
    ":align: center\n",
    "```"
   ]
  },
  {
   "cell_type": "markdown",
   "id": "a8d1a96e-30b2-4261-9aac-253e733717d2",
   "metadata": {},
   "source": [
    "2. **If you do not currently have an EC2 instance under your name,** launch an EC2 instance, by doing the following:\n",
    "   - Services -> EC2\n",
    "   - (*Optional*) Launch an instance using `Launch instance from template`:\n",
    "     - You will find a `de300-t2.medium` template available.\n",
    "   - Verify the following configurations (or set up an instance from scratch):\n",
    "     - Image: AMI (Linux 64-bit)\n",
    "     - Instance type: `t2.medium`\n",
    "     - **Key pair**: You should create a new key pair for your instance (if you do not currently have one).\n",
    "       - Name your key pair name in the same way such that you can identify it.  Default options are fine.\n",
    "       - Upon creating a key pair, a \"key file\" `[name].pem` will be automatically downloaded.  Store it somewhere your machine has read/write access to.\n",
    "       - (You only have to do this once.) run `chmod 400 [name].pem` on your console. (If you use a Windows machine, use either bash or PowerShell.)  The command modifies the \"key file\" to be read-only.\n",
    "     - Subnet: `RDS-Pvt-subnet-5`\n",
    "     - Firewall: Select `launch-wizard-3` security group\n",
    "     - Storage: Specify 12 Gb of EBS storage.\n",
    "     - **Resource tags:** Key: `Name`, Value: `[firstname][lastname]-de300` as your instance name.\n",
    "   - Launch instance.\n",
    "     - An instance will be *running* automatically.  You may track running instances under the `Instances` page."
   ]
  },
  {
   "attachments": {},
   "cell_type": "markdown",
   "id": "840fa4e0-523f-4c8b-a8a5-3048a188939e",
   "metadata": {},
   "source": [
    "```{image} ../img/ec2/launch-from-template.png\n",
    ":alt: launch-from-template\n",
    ":width: 250px\n",
    ":align: center\n",
    "```"
   ]
  },
  {
   "cell_type": "markdown",
   "id": "9c24695b-35d2-422d-bcf8-965fdd39bf4c",
   "metadata": {},
   "source": [
    "3. SSH into EC2\n",
    "   - Once your instance is running, select the instance under the `Instances` page and hit `Connect`.\n",
    "   - Under the `SSH client` tab, you will see the instructions to connect to the EC2 instance via SSH on your console.\n",
    "   - *Troubleshoot*:\n",
    "     - If access is denied, double check your `[name].pem` file is located in your console working directory.\n",
    "     - If an error about unprotected key arises, make sure you have run `chmod 400 [name].pem`."
   ]
  },
  {
   "cell_type": "markdown",
   "id": "d034dbec-ca68-4546-8208-184d91c3f794",
   "metadata": {},
   "source": [
    "```{image} ../img/ec2/instances.png\n",
    ":alt: instances\n",
    ":width: 400px\n",
    ":align: center\n",
    "```"
   ]
  },
  {
   "cell_type": "markdown",
   "id": "de8ce232-b8e6-492b-b531-2747ccb0f069",
   "metadata": {},
   "source": [
    "4. Anaconda installation on EC2\n",
    "   - Fetch source code: `wget https://repo.anaconda.com/archive/Anaconda3-2023.09-0-Linux-x86_64.sh` or the appropriate source code.\n",
    "   - (*Optional*) Verify the source code SHA256 key: `sha256sum [filename].sh`.\n",
    "   - Install: `bash Anaconda3-2023.09-0-Linux-x86_64.sh`\n",
    "     - The first prompt requires you to read the agreement and respond `yes`\n",
    "     - You may have to confirm the location of installation.  The default is fine.\n",
    "     - By the end of installation, you will see a prompt about `conda init`, you may respond `yes` such that each time you log into EC2, the conda environment is automatically loaded.\n",
    "   - Activate conda environment:\n",
    "     - If you responded yes above, run `source .bashrc` to activate the conda environment.  You should see `(base)` as the beginning of your console cursor.\n",
    "     - If you did not respond yes above, you can run `eval \"$($CONDA_PATH/bin/conda shell.bash hook)\"` to activate the conda environment.\n",
    "   - To verify that Anaconda is successfully installed, you can run `which python` in the console, and a path to the Python executables should be returned.\n",
    "     - If no python is found, it means that your conda environment was not successfully activated."
   ]
  },
  {
   "cell_type": "markdown",
   "id": "f490bd4d-e573-41ac-997b-1f71bf860897",
   "metadata": {},
   "source": [
    "6. Set Jupyter notebook password\n",
    "   - Run `jupyter notebook password`.\n",
    "   - Enter and verify your password."
   ]
  },
  {
   "cell_type": "markdown",
   "id": "62fd2399-478d-40d3-88e5-b2df83af43a8",
   "metadata": {},
   "source": [
    "7. SSH into Jupyter notebook on EC2\n",
    "   - In the console where EC2 is running, run `jupyter notebook --no-browser --port=8888`\n",
    "   - Once a jupyter notebook is running, **open** a new console on your local machine.\n",
    "   - On the new console, run `ssh -i [name].pem -N -f -L 8888:localhost:8888 ec2-user@[your-public-DNS].compute-1.amazonaws.com`.\n",
    "   - Open a new browser (Chrome, Firefox, etc.), access https://localhost:8888.\n",
    "   - Enter your password to access your Jupyter notebook.\n"
   ]
  },
  {
   "cell_type": "markdown",
   "id": "71862fcb-5bb8-47da-a86e-df2dbdd8cbf7",
   "metadata": {},
   "source": [
    "8. Stop your EC2 instance on AWS `Instances` page."
   ]
  },
  {
   "cell_type": "markdown",
   "id": "64aface5-67cf-4451-9784-0742e227bae6",
   "metadata": {},
   "source": [
    "## Important: Whenever you are not running anything (for more than 15 minutes), you should stop the EC2 instance on the AWS `Instances` page. "
   ]
  }
 ],
 "metadata": {
  "kernelspec": {
   "display_name": "Python 3 (ipykernel)",
   "language": "python",
   "name": "python3"
  },
  "language_info": {
   "codemirror_mode": {
    "name": "ipython",
    "version": 3
   },
   "file_extension": ".py",
   "mimetype": "text/x-python",
   "name": "python",
   "nbconvert_exporter": "python",
   "pygments_lexer": "ipython3",
   "version": "3.11.7"
  },
  "widgets": {
   "application/vnd.jupyter.widget-state+json": {
    "state": {},
    "version_major": 2,
    "version_minor": 0
   }
  }
 },
 "nbformat": 4,
 "nbformat_minor": 5
}
