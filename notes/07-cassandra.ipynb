{
 "cells": [
  {
   "cell_type": "markdown",
   "id": "5db1e5fb-1deb-49a5-b953-f2456fe7e4cb",
   "metadata": {},
   "source": [
    "# Wide-column database system (Apache Cassandra)\n",
    "\n",
    "This document covers the wide-column database system, with Cassandra queries that are used via AWS Keyspaces.\n",
    "\n",
    "## An abridged version of the Cassandra timeline\n",
    "- **2008**: First developed to address Facebook scaling needs by improving search function.\n",
    "- **2008**: Released by Facebook as an open-source project.\n",
    "- **2009**: Apache picked up Cassandra as an Incubator project, and graduated in 2010.\n",
    "- **2011**: Cassandra Query Language (CQL) is introduced (v0.8).\n",
    "- **2021**: Cassandra 4.0 was released.  In [Patrick McFadin's own words](https://datastax.medium.com/the-end-of-the-beginning-for-apache-cassandra-f58b5b4b7504),\n",
    "> This is an important milestone in the lifecycle of a database project that has come into its own as an important database used around the world.\n",
    "\n",
    "## Architecture of Cassandra"
   ]
  },
  {
   "cell_type": "markdown",
   "id": "531fb387-ed62-46db-88fa-6eb039a403ac",
   "metadata": {},
   "source": [
    "```{figure} ../img/apache-cassandra-ring.jpg\n",
    "---\n",
    "width: 70%\n",
    "name: cassandra-ring\n",
    "---\n",
    "Apache Cassandra distributed database schema. \n",
    "```"
   ]
  },
  {
   "cell_type": "markdown",
   "id": "dc9bfa21-79ab-4c80-9bf7-4530f1b09503",
   "metadata": {},
   "source": [
    "### Decentralized multiple nodes\n",
    "Each node can receive request (query) and coordinates the request\n",
    "  - If the coordinator node contains the data, it may return the results.\n",
    "  - If the coordinator node does not contain the data, it can calculate which other node does (via a *consistent hashing algorithm*).\n",
    "  - If consistency level is requested, the coordinator node queries the data from replica nodes.\n",
    "\n",
    "A note about the hashing algorithm:  \n",
    "- Data are assigned to nodes by a hash function to calculate a *token* for the partition key.\n",
    "- Each node owns a range of the tokens.\n",
    "\n",
    "Example through the following query:"
   ]
  },
  {
   "cell_type": "markdown",
   "id": "c5585470-3cd0-4f7a-8ea6-504fd6e2bfae",
   "metadata": {},
   "source": [
    "```sql\n",
    "SELECT subject_id, token(subject_id) FROM de300_demo.patient_tbl;\n",
    "```"
   ]
  },
  {
   "cell_type": "markdown",
   "id": "068dc57a-ace8-48b5-8019-36a1d995bea0",
   "metadata": {},
   "source": [
    "```{figure} ../img/token_ring.png\n",
    "---\n",
    "width: 70%\n",
    "name: token-ring\n",
    "---\n",
    "Token ring (Fig 6.2 from {cite:t}`carpenter2022cassandra`).\n",
    "```"
   ]
  },
  {
   "cell_type": "markdown",
   "id": "c74466ac-91bd-4b39-8b0b-9951bd37bbf3",
   "metadata": {},
   "source": [
    "### Partitions\n",
    "*Recall* what a primary key is in a relational database table.\n",
    "\n",
    "Cassandra calls the main entity a *Keyspace*, as a group of tables with some relationships (*analogous to database in a relational database system*). \n",
    "\n",
    "The primary key in a Cassandra table consists of \n",
    "- a mandatory **partition key**, and\n",
    "- an optional set of **clustering columns**."
   ]
  },
  {
   "cell_type": "markdown",
   "id": "bfe0b535-e0cd-41d8-90ca-eba2b3dcdbb7",
   "metadata": {},
   "source": [
    "Example adapted from www.freecodecamp.org: "
   ]
  },
  {
   "cell_type": "markdown",
   "id": "b45afa07-34a3-410f-8a85-162eb18e9bca",
   "metadata": {},
   "source": [
    "```sql\n",
    ">>> CREATE TABLE de300keyspaces.users_by_country (\n",
    "    country text,\n",
    "    user_email text,\n",
    "    first_name text,\n",
    "    last_name text,\n",
    "    age smallint,\n",
    "    PRIMARY KEY ((country), user_email)\n",
    ");\n",
    "\n",
    "Table Users | Legend: p - Partition-Key, c - Clustering Column\n",
    "\n",
    "country (p) | user_email (c)  | first_name | last_name | age\n",
    "----------------------------------------------------------------\n",
    "US          | john@email.com  | John       | Wick      | 55  \n",
    "UK          | peter@email.com | Peter      | Clark     | 65  \n",
    "UK          | bob@email.com   | Bob        | Sandler   | 23 \n",
    "UK          | alice@email.com | Alice      | Brown     | 26\n",
    "```"
   ]
  },
  {
   "cell_type": "markdown",
   "id": "ff0891fb-f1ed-4d2f-aaed-52290d8ea261",
   "metadata": {},
   "source": [
    "**Why use country as the mandatory key?**\n",
    "- The most important bit to understanding is *scalability*.\n",
    "- *If* we often query the user database for specific countries, this may be a good idea.\n"
   ]
  },
  {
   "cell_type": "markdown",
   "id": "3b1456ff-1442-46ad-b319-b991eedb4687",
   "metadata": {},
   "source": [
    "```{figure} ../img/partition-key.png\n",
    "---\n",
    "width: 70%\n",
    "name: partition-key\n",
    "---\n",
    "Illstration for partition key.\n",
    "```"
   ]
  },
  {
   "cell_type": "markdown",
   "id": "eb44ffd3-6d7a-45d8-a2da-9b3c22776781",
   "metadata": {},
   "source": [
    "The main role of the **partition key** is to distribute data evenly among nodes.\n",
    "\n",
    "An example query that will work really efficiently is the following:  \n",
    "`>>> SELECT * FROM de300keyspaces.users_by_country WHERE country='US';`\n",
    "\n",
    "An example query that will work poorly would be the following:  \n",
    "`>>> SELECT * FROM de300keyspaces.users_by_country WHERE age > 50;`\n",
    "\n",
    "In fact, the query above will not run.  Queries without conditions (`WHERE`) or use conditions that don't use the partition key should be avoided.\n",
    "\n",
    "*With caution:* You may force this kind of query to run with the following:  \n",
    "`>>> SELECT * FROM de300keyspaces.users_by_country WHERE age > 50 ALLOW FILTERING;`"
   ]
  },
  {
   "cell_type": "markdown",
   "id": "8ab69e3c-8959-4773-ac36-f41dfeabbe7e",
   "metadata": {},
   "source": [
    "### Replication\n",
    "Data are duplicated and stored in different nodes (replicas).  By default, a replication of three \"availability zones\" is supported in AWS Keyspace.\n",
    "\n",
    "When a keyspace is created, a query such as the following requires specifying a replication factor."
   ]
  },
  {
   "cell_type": "markdown",
   "id": "cb260c0d-99c4-4942-9b11-2832eb0fe89b",
   "metadata": {},
   "source": [
    "```sql\n",
    "# AWS Keyspace\n",
    ">>> CREATE KEYSPAC IF NOT EXISTS \"de300keyspaces\"\n",
    "  WITH REPLICATION = {'class': 'SingleRegionStrategy'};\n",
    "\n",
    "# General Cassandra\n",
    ">>> CREATE KEYSPACE de300keyspaces  \r\n",
    "  WITH REPLICATION = { \r\n",
    "   'class' : 'NetworkTopologyStrategy',\r\n",
    "   'datacenter1' : 3 \r\n",
    "  };\n",
    "```"
   ]
  },
  {
   "cell_type": "markdown",
   "id": "92f15aca-fe64-44d5-b06e-4a2bf0e5404d",
   "metadata": {},
   "source": [
    "A **replication factor** of 3 means that for each row of data, there are three copies stored on different nodes."
   ]
  },
  {
   "cell_type": "markdown",
   "id": "a85be9ad-821a-4159-a5a7-2715571568b4",
   "metadata": {},
   "source": [
    "```\n",
    ">>> CONSISTENCY ONE;\n",
    ">>> CONSISTENCY LOCAL_ONE;\n",
    ">>> CONSISTENCY LOCAL_QUORUM;\n",
    "```"
   ]
  },
  {
   "cell_type": "markdown",
   "id": "f74fd499-863d-4099-a625-c05b50a1d226",
   "metadata": {},
   "source": [
    "Note: Strong consistency means $$[\\textrm{read-consistency-level}] + [\\textrm{write-consistency-level}] > [\\textrm{replication-factor}].$$"
   ]
  },
  {
   "cell_type": "markdown",
   "id": "cb973ae6-acb5-4b6d-922d-b8f157af9825",
   "metadata": {},
   "source": [
    "### Consistency\n",
    "Once we have replicates, the notion of consistency beceomes important.  As we have seen before, *strong consistency* means only one state of your data can be observed at any time in any location.\n",
    "Cassandra generally runs an *eventually consistent* model.\n",
    "\n",
    "*The biggest question is how important strong consistency in your use case.*\n",
    "\n",
    "**Read/Write consistency level** means how many of the read/write operations (replica) are completed.\n",
    "\n",
    "Consistency for all queries can be set by the following query examples:"
   ]
  },
  {
   "cell_type": "markdown",
   "id": "6e925a6b-bebd-4dc7-a9f5-37be3117024b",
   "metadata": {},
   "source": [
    "```sql\n",
    ">>> CONSISTENCY ONE;\n",
    ">>> CONSISTENCY LOCAL_QUORUM;\n",
    "```"
   ]
  },
  {
   "cell_type": "markdown",
   "id": "65f1db32-24ab-4ed6-89cb-1f1a57e43e88",
   "metadata": {},
   "source": [
    "### Pre-sorting\n",
    "Recalling that the primary key consists of \n",
    "- a mandatory partition key (1+ columns), and\n",
    "- an optional set of clustering columns (0+ columns).\n",
    "\n",
    "Cassandra sorts the  data by default.  Using the same example from above:"
   ]
  },
  {
   "cell_type": "markdown",
   "id": "c2e9f30f-aa2c-4e47-a283-0df5ebacbdca",
   "metadata": {},
   "source": [
    "``` sql\n",
    ">>> CREATE TABLE de300keyspaces.users_by_country_sorted_by_age_asc (\n",
    "    country text,\n",
    "    user_email text,\n",
    "    first_name text,\n",
    "    last_name text,\n",
    "    age smallint,\n",
    "    PRIMARY KEY ((country), age, user_email)\n",
    ") WITH CLUSTERING ORDER BY (age ASC);\n",
    "```"
   ]
  },
  {
   "cell_type": "markdown",
   "id": "3e69b245-1256-469a-93b0-dfe4ac70db1d",
   "metadata": {},
   "source": [
    "```sql\n",
    ">>> SELECT * FROM de300keyspaces.users_by_country_sorted_by_age_asc WHERE country='UK';\r\n",
    "\r\n",
    " country | age | user_email       | first_name | last_name\r\n",
    "---------+-----+------------------+------------+-----------\r\n",
    "      UK |  20 | bob@email.com   |        Bob |   Sandler\r\n",
    "      UK |  30 | peter@email.com |      Peter |     Clark\r\n",
    "      UK |  40 | alice@email.com |      Alice |    Brown\r\n",
    "\n",
    "```"
   ]
  },
  {
   "cell_type": "markdown",
   "id": "3081dd65-f619-4d10-aab0-e2169a8485b3",
   "metadata": {},
   "source": [
    "Notice that age is included as a clustering column, and sorted.\n",
    "\n",
    "The **order** of your clustering columns matters!  \n",
    "\n",
    "It is now possible to query the table by \n",
    "- `country`\n",
    "- `country`, `age`\n",
    "- `country`, `age`, `user_email`\n",
    "\n",
    "But querying by `country` and `user_email` becomes inefficient."
   ]
  },
  {
   "cell_type": "markdown",
   "id": "9241c370-9b57-4715-b865-73d835a6dcf0",
   "metadata": {},
   "source": [
    "### Deletion of data\n",
    "When data are replicated, deletion of data becomes complicated.  \n",
    "\n",
    "Cassandra sets up *tombstone* to prevent reintroducing any deleted data.\n",
    "\n",
    "- Typically a tombstone is placed on the values to be deleted (i.e., an *update*).\n",
    "- (In a relational database,) an update statement is issued to change values to *deleted* in a row.\n",
    "- The tombstones are kept for some length of time (`gc_grace_seconds = 864000` by default)."
   ]
  },
  {
   "cell_type": "markdown",
   "id": "028284a8-18f9-4c04-9dfe-3397fc0bae0a",
   "metadata": {},
   "source": [
    "### Node failure detection\n",
    "Since a Cassandra ring (or cluster of nodes) contains potentially many nodes (which may fail), we need a mechanism to check if any individual node is failing.\n",
    "\n",
    "A *gossip* protocol system is employed in Cassandra to detect failures in the ring.  When any node spins up, it registers itself with the gossiper to receive the state of the cluster.\n",
    "\n",
    "The gossip protocol goes as follows:\n",
    "1. Once per second, the gossiper will choose a random node in the cluster and initialize a gossip session.  \n",
    "   (Each round of gossip requires three messages back-and-forth.)\n",
    "2. The gossip initiator sends a `GossipDigestSyn` message.\n",
    "3. When the friend receives the message, it returns a `GossipDigestAck` message.\n",
    "4. When the initiator receives the *ack* message, it sends a `GossipDigestAck2` message to complete the round of gossip.\n",
    "5. If there is no response, the initiator *convicts* the friend by marking it as dead in its local list and logging that fact.\n",
    "\n",
    "When is a failure detected?  Cassandra implements **the $\\phi$ accrual failure detector {cite:p}`hayashibara2004spl`**.\n",
    "- A *suspicion* level is maintained by the failure monitoring system.\n",
    "- Each node has a *Phi* suspicion level attached.\n",
    "- If the suspicion level (e.g., number of gossips missed) goes beyond Phi in the node, then failure is declared."
   ]
  },
  {
   "cell_type": "markdown",
   "id": "929f8e75-f7bd-4e50-bea8-470487a8fea1",
   "metadata": {},
   "source": [
    "### Main take-aways\n",
    "- The strength of Cassandra is in horizontal scalability, balancing consistency and availability.\n",
    "- Implication:\n",
    "  - No `JOIN` statements\n",
    "  - No nested query, subquery\n",
    "  - Tables are designed for queries, not the other way around."
   ]
  },
  {
   "cell_type": "markdown",
   "id": "a206c8fe-200f-42c4-aae8-09656d99aea0",
   "metadata": {},
   "source": [
    "```{bibliography}\n",
    ":filter: docname in docnames\n",
    "```"
   ]
  }
 ],
 "metadata": {
  "kernelspec": {
   "display_name": "Python 3 (ipykernel)",
   "language": "python",
   "name": "python3"
  },
  "language_info": {
   "codemirror_mode": {
    "name": "ipython",
    "version": 3
   },
   "file_extension": ".py",
   "mimetype": "text/x-python",
   "name": "python",
   "nbconvert_exporter": "python",
   "pygments_lexer": "ipython3",
   "version": "3.11.7"
  },
  "widgets": {
   "application/vnd.jupyter.widget-state+json": {
    "state": {},
    "version_major": 2,
    "version_minor": 0
   }
  }
 },
 "nbformat": 4,
 "nbformat_minor": 5
}
