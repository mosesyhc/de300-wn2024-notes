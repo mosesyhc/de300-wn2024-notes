{
 "cells": [
  {
   "cell_type": "markdown",
   "id": "56f6353f-7423-476a-b7c2-4da19b1debb4",
   "metadata": {},
   "source": [
    "# (EX) Hospital readmission"
   ]
  },
  {
   "cell_type": "markdown",
   "id": "a49a70ae-fc88-4699-9f65-f81c65fe91e0",
   "metadata": {},
   "source": [
    "## Background\n",
    "\n",
    "A group of researchers {cite:p}`chan2016factors` is studying the financial burden of hospital readmissions after a total knee arthroplasty.  They are interested in the following questions:  \n",
    "1. Do patients undergoing *total knee arthroplasty* get readmitted within a month (30 days) and within 3 months (90 days)?\n",
    "2. How much do these patients in 1. incur during readmission?\n",
    "3. Are these readmissions predictable?\n",
    "4. Are these readmissions preventable?\n",
    "5. Can we predict the costs incurred by a patient, if they were readmitted?\n",
    "\n",
    "*Why these questions?*"
   ]
  },
  {
   "cell_type": "markdown",
   "id": "505de3b0-2138-43d4-9226-cc51311b17bb",
   "metadata": {},
   "source": [
    "### What do we need to answer this set of questions?  \n",
    "- ?"
   ]
  },
  {
   "cell_type": "markdown",
   "id": "10b95a90-53f5-456e-b39d-7eedf26a804f",
   "metadata": {},
   "source": [
    "## Data description"
   ]
  },
  {
   "cell_type": "markdown",
   "id": "9ca43bd5-beac-461d-b49b-b5305deb1b6d",
   "metadata": {},
   "source": [
    "In 2012, there were ${1,249,805}$ patient discharges in Michigan hospitals recorded in the Healthcare Cost and Utilization Project (HCUP) State Inpatient Database, representing $>97\\%$ of the total discharges.\n",
    "\n",
    "The database used in the original study is protected under the HCUP-SID data use agreement.  However, we can get a sense of what the data look like (without seeing the exact data values)."
   ]
  },
  {
   "cell_type": "code",
   "execution_count": 1,
   "id": "ca4bc425-812d-43d5-8257-ef0c57220231",
   "metadata": {},
   "outputs": [],
   "source": [
    "import pandas as pd\n",
    "import tabula  # requires java\n",
    "\n",
    "pd.set_option('display.max_rows', 500)"
   ]
  },
  {
   "cell_type": "code",
   "execution_count": 2,
   "id": "4601af8a-f748-42d5-af21-6f2228b9b47b",
   "metadata": {},
   "outputs": [],
   "source": [
    "# example of variables \n",
    "try:\n",
    "    tables = tabula.read_pdf('https://hcup-us.ahrq.gov/db/state/sidc/tools/cdstats/MI_SIDC_2012_SummaryStats_CORE.PDF', pages='1-8')\n",
    "except Exception as e:\n",
    "    tables = tabula.read_pdf('ex-hospital-readmission/MI_SIDC_2012_SummaryStats_CORE.pdf', pages='1-8')\n",
    "df = pd.concat([tables[i] for i in range(len(tables))], ignore_index=True)"
   ]
  },
  {
   "cell_type": "code",
   "execution_count": 3,
   "id": "7e0cc85e-5860-4262-86d3-17a1bd734add",
   "metadata": {
    "scrolled": true
   },
   "outputs": [
    {
     "data": {
      "text/plain": [
       "0                     AGE : Age in years at admission\n",
       "6               AWEEKEND : Admission day is a weekend\n",
       "7                  DIED : Died during hospitalization\n",
       "10     DISPUNIFORM : Disposition of patient (uniform)\n",
       "18                          DXCCS1 : CCS: diagnosis 1\n",
       "19                          DXCCS2 : CCS: diagnosis 2\n",
       "20                          DXCCS3 : CCS: diagnosis 3\n",
       "61                          FEMALE : Indicator of sex\n",
       "62                HCUP_ED : HCUP Emergency Department\n",
       "67                     LOS : Length of stay (cleaned)\n",
       "78      MRN_R : Medical record number (re-identified)\n",
       "79            NCHRONIC : Number of chronic conditions\n",
       "87            PAY1 : Primary expected payer (uniform)\n",
       "170                             RACE : Race (uniform)\n",
       "171                  TOTCHG : Total charges (cleaned)\n",
       "179      HOSPID : HCUP hospital identification number\n",
       "Name: Variable / Label, dtype: object"
      ]
     },
     "execution_count": 3,
     "metadata": {},
     "output_type": "execute_result"
    }
   ],
   "source": [
    "select_inds = [0, 6, 7, 10, 18, 19, 20, 61, 62, 67, 78, 79, 87, 170, 171, 179, ]\n",
    "\n",
    "df.iloc[select_inds, 0]"
   ]
  },
  {
   "cell_type": "markdown",
   "id": "88e02272-ab3e-40e9-9b76-f100dbe72343",
   "metadata": {},
   "source": [
    "## A (rough but specific) data engineering lifecycle"
   ]
  },
  {
   "cell_type": "markdown",
   "id": "c59af4a3-0d99-4bcb-9405-bbf046a75814",
   "metadata": {},
   "source": [
    "### Identifying the patients and relevant information\n",
    "- How do we isolate knee arthoplasty patients?\n",
    "- How do we capture readmissions?\n",
    "    - How about the 30/90 days threshold?\n",
    "- How do we identify the costs associated with the visits?\n",
    "- Did we include all relevant cases?\n",
    "    - Who do we miss by using the criteria above?\n",
    "\n",
    "### Storing the (relevant) data in accessible format for analysis\n",
    "- Transformation of variables, e.g.,\n",
    "    - Total charges vs incurred costs [(additional \"data\")](https://hcup-us.ahrq.gov/db/ccr/ip-ccr/ip-ccr.jsp#overview)\n",
    "- Creation of new variables, e.g.,\n",
    "    - Readmitted within 30 days\n",
    "    - Readmitted within 90 days\n",
    "- Inclusion / exclusion of data for analysis\n",
    "\n",
    "### Analyzing the data\n",
    "- Readmission analysis\n",
    "    - Relationship between readmission and variables, $\\textrm{Readmitted}_i = g(\\boldsymbol{x}_i) + \\varepsilon_i$?\n",
    "- Cost analysis\n",
    "    - Relationship between readmission cost and variables, $\\textrm{Cost}_i = g(\\boldsymbol{x}_i) + \\varepsilon_i$?\n",
    " \n",
    "### Reporting the findings\n",
    "- e.g., {cite:t}`chan2016factors`\n",
    "- Internal reports to surgeons, physicians, healthcare administrators, etc."
   ]
  },
  {
   "cell_type": "markdown",
   "id": "dd1402b9-57d6-4923-8ce5-53d4f198a3fe",
   "metadata": {},
   "source": [
    "## Caveat\n",
    "All seems good.  What is the problem?\n",
    "\n",
    "**New data**\n",
    "\n",
    "- It is common to conduct the same analyses with a new set of data\n",
    "    - e.g., new data collected from 2012 onward.\n",
    "  \n",
    "**Change of data**\n",
    "\n",
    "- Data format can change from one set of data to another\n",
    "    - e.g., The International Classification of Diseases (ICD) is revised from ICD-9 to ICD-10 in September 2015.\n",
    "    - Specifically, total knee was `81.54` in ICD-9 and in ICD-10... [(online converter)](https://www.icd10data.com/Convert/81.54/)**"
   ]
  },
  {
   "cell_type": "markdown",
   "id": "248e7d6f-9d0b-452e-b0d7-65a24e784c9d",
   "metadata": {},
   "source": [
    "**New question**\n",
    "\n",
    "- Other analyses may have a similar approach\n",
    "    - e.g., what about total hip arthroplasty? other procedures?\n",
    "  \n",
    "**Continuous analysis**\n",
    "\n",
    "- Some analyses may require continuous reporting (say daily, weekly, or monthly)\n",
    "    - e.g., COVID-19 patient outcomes are analyzed every day during the peak of pandemic."
   ]
  },
  {
   "cell_type": "markdown",
   "id": "f2180fda-a2e5-4fcc-94c2-d4d9ee5370e4",
   "metadata": {},
   "source": [
    "```{bibliography}\r\n",
    ":filter: docname in docnames\n",
    "```"
   ]
  }
 ],
 "metadata": {
  "kernelspec": {
   "display_name": "Python 3 (ipykernel)",
   "language": "python",
   "name": "python3"
  },
  "language_info": {
   "codemirror_mode": {
    "name": "ipython",
    "version": 3
   },
   "file_extension": ".py",
   "mimetype": "text/x-python",
   "name": "python",
   "nbconvert_exporter": "python",
   "pygments_lexer": "ipython3",
   "version": "3.11.7"
  }
 },
 "nbformat": 4,
 "nbformat_minor": 5
}